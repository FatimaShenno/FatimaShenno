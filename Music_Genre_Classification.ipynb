{
  "cells": [
    {
      "cell_type": "markdown",
      "metadata": {
        "id": "view-in-github",
        "colab_type": "text"
      },
      "source": [
        "<a href=\"https://colab.research.google.com/github/FatimaShenno/ML-Project/blob/main/Music_Genre_Classification.ipynb\" target=\"_parent\"><img src=\"https://colab.research.google.com/assets/colab-badge.svg\" alt=\"Open In Colab\"/></a>"
      ]
    },
    {
      "cell_type": "markdown",
      "metadata": {
        "id": "RpcuEjIqf9ao"
      },
      "source": [
        "# **Import Library**"
      ]
    },
    {
      "cell_type": "code",
      "execution_count": null,
      "metadata": {
        "execution": {
          "iopub.execute_input": "2022-11-13T22:41:18.801890Z",
          "iopub.status.busy": "2022-11-13T22:41:18.801534Z",
          "iopub.status.idle": "2022-11-13T22:41:18.809687Z",
          "shell.execute_reply": "2022-11-13T22:41:18.808126Z",
          "shell.execute_reply.started": "2022-11-13T22:41:18.801855Z"
        },
        "id": "SwK9JPpVf9ap"
      },
      "outputs": [],
      "source": [
        "import numpy as np \n",
        "import pandas as pd \n",
        "import matplotlib.pyplot as plt \n",
        "import seaborn as sns \n",
        "\n",
        "from sklearn.preprocessing import StandardScaler,PowerTransformer,PolynomialFeatures,MinMaxScaler\n",
        "from sklearn.metrics import ConfusionMatrixDisplay\n",
        "from sklearn.model_selection import train_test_split\n",
        "from sklearn.model_selection import StratifiedShuffleSplit\n",
        "from sklearn.model_selection import cross_val_score, cross_val_predict\n",
        "from sklearn.model_selection import GridSearchCV\n",
        "from sklearn.compose import ColumnTransformer\n",
        "\n",
        "from sklearn.impute import SimpleImputer\n",
        "from sklearn.pipeline import Pipeline \n",
        "from sklearn.metrics import roc_auc_score\n",
        "from sklearn.metrics import accuracy_score, confusion_matrix, classification_report\n",
        "from sklearn.model_selection import cross_val_predict"
      ]
    },
    {
      "cell_type": "markdown",
      "metadata": {
        "id": "c5eJNfPbf9aq"
      },
      "source": [
        "# **Get the Data**"
      ]
    },
    {
      "cell_type": "code",
      "execution_count": null,
      "metadata": {
        "colab": {
          "base_uri": "https://localhost:8080/",
          "height": 513
        },
        "execution": {
          "iopub.execute_input": "2022-11-13T22:41:18.812869Z",
          "iopub.status.busy": "2022-11-13T22:41:18.812453Z",
          "iopub.status.idle": "2022-11-13T22:41:18.875597Z",
          "shell.execute_reply": "2022-11-13T22:41:18.874582Z",
          "shell.execute_reply.started": "2022-11-13T22:41:18.812834Z"
        },
        "id": "v0SmE_3Of9aq",
        "outputId": "34c01c43-dd4a-4e94-9d7b-201e6c328332"
      },
      "outputs": [
        {
          "output_type": "execute_result",
          "data": {
            "text/plain": [
              "   id                 Artist Name                          Track Name  \\\n",
              "0   0  Lata Mangeshkar, Hariharan                       Likha Hai Yeh   \n",
              "1   1                  Kalan.FrFr  No Love ft. Mozzy & Cypress Moreno   \n",
              "2   2                    The Cure                      Play For Today   \n",
              "3   3               Miguel Poveda                   Coplas Del Querer   \n",
              "4   4              Leif Vollebekk                     Long Blue Light   \n",
              "\n",
              "   Popularity  danceability  energy   key  loudness  mode  speechiness  \\\n",
              "0        23.0         0.370   0.670   7.0   -11.007     0       0.0445   \n",
              "1        45.0         0.659   0.639   6.0    -8.138     1       0.3880   \n",
              "2        51.0         0.458   0.731  11.0   -12.049     0       0.1450   \n",
              "3        40.0         0.508   0.287   5.0    -8.898     0       0.0481   \n",
              "4        63.0         0.552   0.485   9.0    -9.111     1       0.0332   \n",
              "\n",
              "   acousticness  instrumentalness  liveness  valence    tempo  \\\n",
              "0        0.8090          0.000006    0.2360    0.802  177.164   \n",
              "1        0.4160               NaN    0.1160    0.688   99.517   \n",
              "2        0.0487          0.021500    0.1160    0.784   80.425   \n",
              "3        0.8340               NaN    0.0963    0.324   96.139   \n",
              "4        0.5170          0.106000    0.1640    0.510   71.548   \n",
              "\n",
              "   duration_in min/ms  time_signature  Class  \n",
              "0            5.209333               3      3  \n",
              "1       206602.000000               4      5  \n",
              "2       218960.000000               4      6  \n",
              "3       332467.000000               3      9  \n",
              "4       200173.000000               4      1  "
            ],
            "text/html": [
              "\n",
              "  <div id=\"df-cbb8de2c-278b-4f67-83fc-24810e271237\">\n",
              "    <div class=\"colab-df-container\">\n",
              "      <div>\n",
              "<style scoped>\n",
              "    .dataframe tbody tr th:only-of-type {\n",
              "        vertical-align: middle;\n",
              "    }\n",
              "\n",
              "    .dataframe tbody tr th {\n",
              "        vertical-align: top;\n",
              "    }\n",
              "\n",
              "    .dataframe thead th {\n",
              "        text-align: right;\n",
              "    }\n",
              "</style>\n",
              "<table border=\"1\" class=\"dataframe\">\n",
              "  <thead>\n",
              "    <tr style=\"text-align: right;\">\n",
              "      <th></th>\n",
              "      <th>id</th>\n",
              "      <th>Artist Name</th>\n",
              "      <th>Track Name</th>\n",
              "      <th>Popularity</th>\n",
              "      <th>danceability</th>\n",
              "      <th>energy</th>\n",
              "      <th>key</th>\n",
              "      <th>loudness</th>\n",
              "      <th>mode</th>\n",
              "      <th>speechiness</th>\n",
              "      <th>acousticness</th>\n",
              "      <th>instrumentalness</th>\n",
              "      <th>liveness</th>\n",
              "      <th>valence</th>\n",
              "      <th>tempo</th>\n",
              "      <th>duration_in min/ms</th>\n",
              "      <th>time_signature</th>\n",
              "      <th>Class</th>\n",
              "    </tr>\n",
              "  </thead>\n",
              "  <tbody>\n",
              "    <tr>\n",
              "      <th>0</th>\n",
              "      <td>0</td>\n",
              "      <td>Lata Mangeshkar, Hariharan</td>\n",
              "      <td>Likha Hai Yeh</td>\n",
              "      <td>23.0</td>\n",
              "      <td>0.370</td>\n",
              "      <td>0.670</td>\n",
              "      <td>7.0</td>\n",
              "      <td>-11.007</td>\n",
              "      <td>0</td>\n",
              "      <td>0.0445</td>\n",
              "      <td>0.8090</td>\n",
              "      <td>0.000006</td>\n",
              "      <td>0.2360</td>\n",
              "      <td>0.802</td>\n",
              "      <td>177.164</td>\n",
              "      <td>5.209333</td>\n",
              "      <td>3</td>\n",
              "      <td>3</td>\n",
              "    </tr>\n",
              "    <tr>\n",
              "      <th>1</th>\n",
              "      <td>1</td>\n",
              "      <td>Kalan.FrFr</td>\n",
              "      <td>No Love ft. Mozzy &amp; Cypress Moreno</td>\n",
              "      <td>45.0</td>\n",
              "      <td>0.659</td>\n",
              "      <td>0.639</td>\n",
              "      <td>6.0</td>\n",
              "      <td>-8.138</td>\n",
              "      <td>1</td>\n",
              "      <td>0.3880</td>\n",
              "      <td>0.4160</td>\n",
              "      <td>NaN</td>\n",
              "      <td>0.1160</td>\n",
              "      <td>0.688</td>\n",
              "      <td>99.517</td>\n",
              "      <td>206602.000000</td>\n",
              "      <td>4</td>\n",
              "      <td>5</td>\n",
              "    </tr>\n",
              "    <tr>\n",
              "      <th>2</th>\n",
              "      <td>2</td>\n",
              "      <td>The Cure</td>\n",
              "      <td>Play For Today</td>\n",
              "      <td>51.0</td>\n",
              "      <td>0.458</td>\n",
              "      <td>0.731</td>\n",
              "      <td>11.0</td>\n",
              "      <td>-12.049</td>\n",
              "      <td>0</td>\n",
              "      <td>0.1450</td>\n",
              "      <td>0.0487</td>\n",
              "      <td>0.021500</td>\n",
              "      <td>0.1160</td>\n",
              "      <td>0.784</td>\n",
              "      <td>80.425</td>\n",
              "      <td>218960.000000</td>\n",
              "      <td>4</td>\n",
              "      <td>6</td>\n",
              "    </tr>\n",
              "    <tr>\n",
              "      <th>3</th>\n",
              "      <td>3</td>\n",
              "      <td>Miguel Poveda</td>\n",
              "      <td>Coplas Del Querer</td>\n",
              "      <td>40.0</td>\n",
              "      <td>0.508</td>\n",
              "      <td>0.287</td>\n",
              "      <td>5.0</td>\n",
              "      <td>-8.898</td>\n",
              "      <td>0</td>\n",
              "      <td>0.0481</td>\n",
              "      <td>0.8340</td>\n",
              "      <td>NaN</td>\n",
              "      <td>0.0963</td>\n",
              "      <td>0.324</td>\n",
              "      <td>96.139</td>\n",
              "      <td>332467.000000</td>\n",
              "      <td>3</td>\n",
              "      <td>9</td>\n",
              "    </tr>\n",
              "    <tr>\n",
              "      <th>4</th>\n",
              "      <td>4</td>\n",
              "      <td>Leif Vollebekk</td>\n",
              "      <td>Long Blue Light</td>\n",
              "      <td>63.0</td>\n",
              "      <td>0.552</td>\n",
              "      <td>0.485</td>\n",
              "      <td>9.0</td>\n",
              "      <td>-9.111</td>\n",
              "      <td>1</td>\n",
              "      <td>0.0332</td>\n",
              "      <td>0.5170</td>\n",
              "      <td>0.106000</td>\n",
              "      <td>0.1640</td>\n",
              "      <td>0.510</td>\n",
              "      <td>71.548</td>\n",
              "      <td>200173.000000</td>\n",
              "      <td>4</td>\n",
              "      <td>1</td>\n",
              "    </tr>\n",
              "  </tbody>\n",
              "</table>\n",
              "</div>\n",
              "      <button class=\"colab-df-convert\" onclick=\"convertToInteractive('df-cbb8de2c-278b-4f67-83fc-24810e271237')\"\n",
              "              title=\"Convert this dataframe to an interactive table.\"\n",
              "              style=\"display:none;\">\n",
              "        \n",
              "  <svg xmlns=\"http://www.w3.org/2000/svg\" height=\"24px\"viewBox=\"0 0 24 24\"\n",
              "       width=\"24px\">\n",
              "    <path d=\"M0 0h24v24H0V0z\" fill=\"none\"/>\n",
              "    <path d=\"M18.56 5.44l.94 2.06.94-2.06 2.06-.94-2.06-.94-.94-2.06-.94 2.06-2.06.94zm-11 1L8.5 8.5l.94-2.06 2.06-.94-2.06-.94L8.5 2.5l-.94 2.06-2.06.94zm10 10l.94 2.06.94-2.06 2.06-.94-2.06-.94-.94-2.06-.94 2.06-2.06.94z\"/><path d=\"M17.41 7.96l-1.37-1.37c-.4-.4-.92-.59-1.43-.59-.52 0-1.04.2-1.43.59L10.3 9.45l-7.72 7.72c-.78.78-.78 2.05 0 2.83L4 21.41c.39.39.9.59 1.41.59.51 0 1.02-.2 1.41-.59l7.78-7.78 2.81-2.81c.8-.78.8-2.07 0-2.86zM5.41 20L4 18.59l7.72-7.72 1.47 1.35L5.41 20z\"/>\n",
              "  </svg>\n",
              "      </button>\n",
              "      \n",
              "  <style>\n",
              "    .colab-df-container {\n",
              "      display:flex;\n",
              "      flex-wrap:wrap;\n",
              "      gap: 12px;\n",
              "    }\n",
              "\n",
              "    .colab-df-convert {\n",
              "      background-color: #E8F0FE;\n",
              "      border: none;\n",
              "      border-radius: 50%;\n",
              "      cursor: pointer;\n",
              "      display: none;\n",
              "      fill: #1967D2;\n",
              "      height: 32px;\n",
              "      padding: 0 0 0 0;\n",
              "      width: 32px;\n",
              "    }\n",
              "\n",
              "    .colab-df-convert:hover {\n",
              "      background-color: #E2EBFA;\n",
              "      box-shadow: 0px 1px 2px rgba(60, 64, 67, 0.3), 0px 1px 3px 1px rgba(60, 64, 67, 0.15);\n",
              "      fill: #174EA6;\n",
              "    }\n",
              "\n",
              "    [theme=dark] .colab-df-convert {\n",
              "      background-color: #3B4455;\n",
              "      fill: #D2E3FC;\n",
              "    }\n",
              "\n",
              "    [theme=dark] .colab-df-convert:hover {\n",
              "      background-color: #434B5C;\n",
              "      box-shadow: 0px 1px 3px 1px rgba(0, 0, 0, 0.15);\n",
              "      filter: drop-shadow(0px 1px 2px rgba(0, 0, 0, 0.3));\n",
              "      fill: #FFFFFF;\n",
              "    }\n",
              "  </style>\n",
              "\n",
              "      <script>\n",
              "        const buttonEl =\n",
              "          document.querySelector('#df-cbb8de2c-278b-4f67-83fc-24810e271237 button.colab-df-convert');\n",
              "        buttonEl.style.display =\n",
              "          google.colab.kernel.accessAllowed ? 'block' : 'none';\n",
              "\n",
              "        async function convertToInteractive(key) {\n",
              "          const element = document.querySelector('#df-cbb8de2c-278b-4f67-83fc-24810e271237');\n",
              "          const dataTable =\n",
              "            await google.colab.kernel.invokeFunction('convertToInteractive',\n",
              "                                                     [key], {});\n",
              "          if (!dataTable) return;\n",
              "\n",
              "          const docLinkHtml = 'Like what you see? Visit the ' +\n",
              "            '<a target=\"_blank\" href=https://colab.research.google.com/notebooks/data_table.ipynb>data table notebook</a>'\n",
              "            + ' to learn more about interactive tables.';\n",
              "          element.innerHTML = '';\n",
              "          dataTable['output_type'] = 'display_data';\n",
              "          await google.colab.output.renderOutput(dataTable, element);\n",
              "          const docLink = document.createElement('div');\n",
              "          docLink.innerHTML = docLinkHtml;\n",
              "          element.appendChild(docLink);\n",
              "        }\n",
              "      </script>\n",
              "    </div>\n",
              "  </div>\n",
              "  "
            ]
          },
          "metadata": {},
          "execution_count": 3
        }
      ],
      "source": [
        "music = pd.read_csv(\"/content/train.csv\")\n",
        "music.head(5)"
      ]
    },
    {
      "cell_type": "markdown",
      "metadata": {
        "id": "DPEQvCWK_22J"
      },
      "source": [
        "*   Id - an arbitrary unique track identifier\n",
        "\n",
        "*   Artist Name - singer or band\n",
        "\n",
        "*   Track Name - track title\n",
        "\n",
        "*  bpm - beats per minute (tempo)\n",
        "\n",
        "*  energy: the higher the value the more energetic\n",
        "\n",
        "*  key - keys on an octave encoded as integers in (C = 0, C# = 1, etc.)\n",
        "\n",
        "*   danceability: the higher the value, the easier it is to dance to this song\n",
        "\n",
        "*   loudness (dB): the higher the value, the louder the song\n",
        "\n",
        "*   mode: Mode indicates the modality (major or minor) of a track.Major is represented by 1 and minor is 0\n",
        "\n",
        "*   liveness: the higher the value, the more likely the song is alive recording\n",
        "\n",
        "*   valence: the higher the value, the more positive mood for the song\n",
        "\n",
        "*   duration: the length of the song\n",
        "\n",
        "*   acousticness: the higher the value the more acoustic the song is\n",
        "\n",
        "*   speechiness: the higher the value the more spoken word the song contains\n",
        "\n",
        "*   popularity: the higher the value the more popular the song is\n",
        "\n",
        "*   class - genre of the track and (the target variable for this problem)\n",
        "\n",
        "\n",
        "\n",
        "\n",
        "\n",
        "\n",
        "\n",
        "\n",
        "\n",
        "\n",
        "\n",
        "\n",
        "\n",
        "\n",
        "\n",
        "\n",
        "\n",
        "\n",
        "\n",
        "\n",
        "\n",
        "\n"
      ]
    },
    {
      "cell_type": "markdown",
      "metadata": {
        "id": "YJnmHPN5f9ar"
      },
      "source": [
        "# **Data Discovery**\n",
        "\n",
        "\n"
      ]
    },
    {
      "cell_type": "markdown",
      "metadata": {
        "id": "zdC1t4OI9nuC"
      },
      "source": [
        " **Drop unuseful columns** "
      ]
    },
    {
      "cell_type": "code",
      "execution_count": null,
      "metadata": {
        "colab": {
          "base_uri": "https://localhost:8080/"
        },
        "id": "ugdMqwqlQqfk",
        "outputId": "6196f333-e3d7-496c-fc06-722eeb19e3c8"
      },
      "outputs": [
        {
          "output_type": "execute_result",
          "data": {
            "text/plain": [
              "(14396, 18)"
            ]
          },
          "metadata": {},
          "execution_count": 4
        }
      ],
      "source": [
        "music.shape"
      ]
    },
    {
      "cell_type": "code",
      "execution_count": null,
      "metadata": {
        "id": "4ts2bQsy9nuD"
      },
      "outputs": [],
      "source": [
        "music.drop(columns = [\"id\",\"Artist Name\",\"Track Name\"],inplace = True )"
      ]
    },
    {
      "cell_type": "code",
      "execution_count": null,
      "metadata": {
        "colab": {
          "base_uri": "https://localhost:8080/"
        },
        "execution": {
          "iopub.execute_input": "2022-11-13T22:41:49.606928Z",
          "iopub.status.busy": "2022-11-13T22:41:49.606544Z",
          "iopub.status.idle": "2022-11-13T22:41:49.621494Z",
          "shell.execute_reply": "2022-11-13T22:41:49.620107Z",
          "shell.execute_reply.started": "2022-11-13T22:41:49.606895Z"
        },
        "id": "ueFhwYSjf9as",
        "outputId": "15db218a-338a-402d-84a9-a387a6376545",
        "scrolled": false
      },
      "outputs": [
        {
          "output_type": "stream",
          "name": "stdout",
          "text": [
            "<class 'pandas.core.frame.DataFrame'>\n",
            "RangeIndex: 14396 entries, 0 to 14395\n",
            "Data columns (total 15 columns):\n",
            " #   Column              Non-Null Count  Dtype  \n",
            "---  ------              --------------  -----  \n",
            " 0   Popularity          14045 non-null  float64\n",
            " 1   danceability        14396 non-null  float64\n",
            " 2   energy              14396 non-null  float64\n",
            " 3   key                 12784 non-null  float64\n",
            " 4   loudness            14396 non-null  float64\n",
            " 5   mode                14396 non-null  int64  \n",
            " 6   speechiness         14396 non-null  float64\n",
            " 7   acousticness        14396 non-null  float64\n",
            " 8   instrumentalness    10837 non-null  float64\n",
            " 9   liveness            14396 non-null  float64\n",
            " 10  valence             14396 non-null  float64\n",
            " 11  tempo               14396 non-null  float64\n",
            " 12  duration_in min/ms  14396 non-null  float64\n",
            " 13  time_signature      14396 non-null  int64  \n",
            " 14  Class               14396 non-null  int64  \n",
            "dtypes: float64(12), int64(3)\n",
            "memory usage: 1.6 MB\n"
          ]
        }
      ],
      "source": [
        "music.info()"
      ]
    },
    {
      "cell_type": "code",
      "execution_count": null,
      "metadata": {
        "id": "PPkWWp-_q2of"
      },
      "outputs": [],
      "source": [
        "music[\"key\"] = music[\"key\"].astype(\"object\")\n",
        "music[\"mode\"] = music[\"mode\"].astype(\"object\")\n",
        "music[\"Class\"] = music[\"Class\"].astype(\"object\")"
      ]
    },
    {
      "cell_type": "markdown",
      "metadata": {
        "id": "6Oh9mV3Q9nuF"
      },
      "source": [
        "* some columns should be changed its datatypes, such as mode, key, and class "
      ]
    },
    {
      "cell_type": "code",
      "execution_count": null,
      "metadata": {
        "colab": {
          "base_uri": "https://localhost:8080/",
          "height": 381
        },
        "id": "SVJPh_S-f9as",
        "outputId": "53c7d9e5-cb3c-4b99-80c4-60c82e9521af",
        "scrolled": true
      },
      "outputs": [
        {
          "output_type": "execute_result",
          "data": {
            "text/plain": [
              "         Popularity  danceability        energy      loudness   speechiness  \\\n",
              "count  14045.000000  14396.000000  14396.000000  14396.000000  14396.000000   \n",
              "mean      44.591954      0.542981      0.663347     -7.897393      0.079479   \n",
              "std       17.436540      0.166668      0.235709      4.063214      0.083048   \n",
              "min        1.000000      0.059600      0.000020    -39.952000      0.022500   \n",
              "25%       33.000000      0.430000      0.510000     -9.525250      0.034800   \n",
              "50%       44.000000      0.545000      0.701000     -7.006000      0.047400   \n",
              "75%       56.000000      0.659000      0.861000     -5.161000      0.082500   \n",
              "max      100.000000      0.989000      0.999000      1.355000      0.955000   \n",
              "\n",
              "       acousticness  instrumentalness      liveness       valence  \\\n",
              "count  14396.000000      10837.000000  14396.000000  14396.000000   \n",
              "mean       0.246606          0.177489      0.195594      0.486931   \n",
              "std        0.310371          0.304133      0.158487      0.240281   \n",
              "min        0.000000          0.000001      0.013600      0.018300   \n",
              "25%        0.004208          0.000088      0.097400      0.299000   \n",
              "50%        0.080750          0.003920      0.129000      0.481000   \n",
              "75%        0.434000          0.199000      0.257000      0.673000   \n",
              "max        0.996000          0.996000      1.000000      0.986000   \n",
              "\n",
              "              tempo  duration_in min/ms  time_signature  \n",
              "count  14396.000000        1.439600e+04    14396.000000  \n",
              "mean     122.729981        2.009550e+05        3.927341  \n",
              "std       29.558253        1.118463e+05        0.352828  \n",
              "min       34.132000        5.339167e-01        1.000000  \n",
              "25%       99.799000        1.669988e+05        4.000000  \n",
              "50%      120.069500        2.095845e+05        4.000000  \n",
              "75%      141.990250        2.522970e+05        4.000000  \n",
              "max      217.416000        1.477187e+06        5.000000  "
            ],
            "text/html": [
              "\n",
              "  <div id=\"df-f9427838-3270-4f36-8f1d-7acdb0bcb566\">\n",
              "    <div class=\"colab-df-container\">\n",
              "      <div>\n",
              "<style scoped>\n",
              "    .dataframe tbody tr th:only-of-type {\n",
              "        vertical-align: middle;\n",
              "    }\n",
              "\n",
              "    .dataframe tbody tr th {\n",
              "        vertical-align: top;\n",
              "    }\n",
              "\n",
              "    .dataframe thead th {\n",
              "        text-align: right;\n",
              "    }\n",
              "</style>\n",
              "<table border=\"1\" class=\"dataframe\">\n",
              "  <thead>\n",
              "    <tr style=\"text-align: right;\">\n",
              "      <th></th>\n",
              "      <th>Popularity</th>\n",
              "      <th>danceability</th>\n",
              "      <th>energy</th>\n",
              "      <th>loudness</th>\n",
              "      <th>speechiness</th>\n",
              "      <th>acousticness</th>\n",
              "      <th>instrumentalness</th>\n",
              "      <th>liveness</th>\n",
              "      <th>valence</th>\n",
              "      <th>tempo</th>\n",
              "      <th>duration_in min/ms</th>\n",
              "      <th>time_signature</th>\n",
              "    </tr>\n",
              "  </thead>\n",
              "  <tbody>\n",
              "    <tr>\n",
              "      <th>count</th>\n",
              "      <td>14045.000000</td>\n",
              "      <td>14396.000000</td>\n",
              "      <td>14396.000000</td>\n",
              "      <td>14396.000000</td>\n",
              "      <td>14396.000000</td>\n",
              "      <td>14396.000000</td>\n",
              "      <td>10837.000000</td>\n",
              "      <td>14396.000000</td>\n",
              "      <td>14396.000000</td>\n",
              "      <td>14396.000000</td>\n",
              "      <td>1.439600e+04</td>\n",
              "      <td>14396.000000</td>\n",
              "    </tr>\n",
              "    <tr>\n",
              "      <th>mean</th>\n",
              "      <td>44.591954</td>\n",
              "      <td>0.542981</td>\n",
              "      <td>0.663347</td>\n",
              "      <td>-7.897393</td>\n",
              "      <td>0.079479</td>\n",
              "      <td>0.246606</td>\n",
              "      <td>0.177489</td>\n",
              "      <td>0.195594</td>\n",
              "      <td>0.486931</td>\n",
              "      <td>122.729981</td>\n",
              "      <td>2.009550e+05</td>\n",
              "      <td>3.927341</td>\n",
              "    </tr>\n",
              "    <tr>\n",
              "      <th>std</th>\n",
              "      <td>17.436540</td>\n",
              "      <td>0.166668</td>\n",
              "      <td>0.235709</td>\n",
              "      <td>4.063214</td>\n",
              "      <td>0.083048</td>\n",
              "      <td>0.310371</td>\n",
              "      <td>0.304133</td>\n",
              "      <td>0.158487</td>\n",
              "      <td>0.240281</td>\n",
              "      <td>29.558253</td>\n",
              "      <td>1.118463e+05</td>\n",
              "      <td>0.352828</td>\n",
              "    </tr>\n",
              "    <tr>\n",
              "      <th>min</th>\n",
              "      <td>1.000000</td>\n",
              "      <td>0.059600</td>\n",
              "      <td>0.000020</td>\n",
              "      <td>-39.952000</td>\n",
              "      <td>0.022500</td>\n",
              "      <td>0.000000</td>\n",
              "      <td>0.000001</td>\n",
              "      <td>0.013600</td>\n",
              "      <td>0.018300</td>\n",
              "      <td>34.132000</td>\n",
              "      <td>5.339167e-01</td>\n",
              "      <td>1.000000</td>\n",
              "    </tr>\n",
              "    <tr>\n",
              "      <th>25%</th>\n",
              "      <td>33.000000</td>\n",
              "      <td>0.430000</td>\n",
              "      <td>0.510000</td>\n",
              "      <td>-9.525250</td>\n",
              "      <td>0.034800</td>\n",
              "      <td>0.004208</td>\n",
              "      <td>0.000088</td>\n",
              "      <td>0.097400</td>\n",
              "      <td>0.299000</td>\n",
              "      <td>99.799000</td>\n",
              "      <td>1.669988e+05</td>\n",
              "      <td>4.000000</td>\n",
              "    </tr>\n",
              "    <tr>\n",
              "      <th>50%</th>\n",
              "      <td>44.000000</td>\n",
              "      <td>0.545000</td>\n",
              "      <td>0.701000</td>\n",
              "      <td>-7.006000</td>\n",
              "      <td>0.047400</td>\n",
              "      <td>0.080750</td>\n",
              "      <td>0.003920</td>\n",
              "      <td>0.129000</td>\n",
              "      <td>0.481000</td>\n",
              "      <td>120.069500</td>\n",
              "      <td>2.095845e+05</td>\n",
              "      <td>4.000000</td>\n",
              "    </tr>\n",
              "    <tr>\n",
              "      <th>75%</th>\n",
              "      <td>56.000000</td>\n",
              "      <td>0.659000</td>\n",
              "      <td>0.861000</td>\n",
              "      <td>-5.161000</td>\n",
              "      <td>0.082500</td>\n",
              "      <td>0.434000</td>\n",
              "      <td>0.199000</td>\n",
              "      <td>0.257000</td>\n",
              "      <td>0.673000</td>\n",
              "      <td>141.990250</td>\n",
              "      <td>2.522970e+05</td>\n",
              "      <td>4.000000</td>\n",
              "    </tr>\n",
              "    <tr>\n",
              "      <th>max</th>\n",
              "      <td>100.000000</td>\n",
              "      <td>0.989000</td>\n",
              "      <td>0.999000</td>\n",
              "      <td>1.355000</td>\n",
              "      <td>0.955000</td>\n",
              "      <td>0.996000</td>\n",
              "      <td>0.996000</td>\n",
              "      <td>1.000000</td>\n",
              "      <td>0.986000</td>\n",
              "      <td>217.416000</td>\n",
              "      <td>1.477187e+06</td>\n",
              "      <td>5.000000</td>\n",
              "    </tr>\n",
              "  </tbody>\n",
              "</table>\n",
              "</div>\n",
              "      <button class=\"colab-df-convert\" onclick=\"convertToInteractive('df-f9427838-3270-4f36-8f1d-7acdb0bcb566')\"\n",
              "              title=\"Convert this dataframe to an interactive table.\"\n",
              "              style=\"display:none;\">\n",
              "        \n",
              "  <svg xmlns=\"http://www.w3.org/2000/svg\" height=\"24px\"viewBox=\"0 0 24 24\"\n",
              "       width=\"24px\">\n",
              "    <path d=\"M0 0h24v24H0V0z\" fill=\"none\"/>\n",
              "    <path d=\"M18.56 5.44l.94 2.06.94-2.06 2.06-.94-2.06-.94-.94-2.06-.94 2.06-2.06.94zm-11 1L8.5 8.5l.94-2.06 2.06-.94-2.06-.94L8.5 2.5l-.94 2.06-2.06.94zm10 10l.94 2.06.94-2.06 2.06-.94-2.06-.94-.94-2.06-.94 2.06-2.06.94z\"/><path d=\"M17.41 7.96l-1.37-1.37c-.4-.4-.92-.59-1.43-.59-.52 0-1.04.2-1.43.59L10.3 9.45l-7.72 7.72c-.78.78-.78 2.05 0 2.83L4 21.41c.39.39.9.59 1.41.59.51 0 1.02-.2 1.41-.59l7.78-7.78 2.81-2.81c.8-.78.8-2.07 0-2.86zM5.41 20L4 18.59l7.72-7.72 1.47 1.35L5.41 20z\"/>\n",
              "  </svg>\n",
              "      </button>\n",
              "      \n",
              "  <style>\n",
              "    .colab-df-container {\n",
              "      display:flex;\n",
              "      flex-wrap:wrap;\n",
              "      gap: 12px;\n",
              "    }\n",
              "\n",
              "    .colab-df-convert {\n",
              "      background-color: #E8F0FE;\n",
              "      border: none;\n",
              "      border-radius: 50%;\n",
              "      cursor: pointer;\n",
              "      display: none;\n",
              "      fill: #1967D2;\n",
              "      height: 32px;\n",
              "      padding: 0 0 0 0;\n",
              "      width: 32px;\n",
              "    }\n",
              "\n",
              "    .colab-df-convert:hover {\n",
              "      background-color: #E2EBFA;\n",
              "      box-shadow: 0px 1px 2px rgba(60, 64, 67, 0.3), 0px 1px 3px 1px rgba(60, 64, 67, 0.15);\n",
              "      fill: #174EA6;\n",
              "    }\n",
              "\n",
              "    [theme=dark] .colab-df-convert {\n",
              "      background-color: #3B4455;\n",
              "      fill: #D2E3FC;\n",
              "    }\n",
              "\n",
              "    [theme=dark] .colab-df-convert:hover {\n",
              "      background-color: #434B5C;\n",
              "      box-shadow: 0px 1px 3px 1px rgba(0, 0, 0, 0.15);\n",
              "      filter: drop-shadow(0px 1px 2px rgba(0, 0, 0, 0.3));\n",
              "      fill: #FFFFFF;\n",
              "    }\n",
              "  </style>\n",
              "\n",
              "      <script>\n",
              "        const buttonEl =\n",
              "          document.querySelector('#df-f9427838-3270-4f36-8f1d-7acdb0bcb566 button.colab-df-convert');\n",
              "        buttonEl.style.display =\n",
              "          google.colab.kernel.accessAllowed ? 'block' : 'none';\n",
              "\n",
              "        async function convertToInteractive(key) {\n",
              "          const element = document.querySelector('#df-f9427838-3270-4f36-8f1d-7acdb0bcb566');\n",
              "          const dataTable =\n",
              "            await google.colab.kernel.invokeFunction('convertToInteractive',\n",
              "                                                     [key], {});\n",
              "          if (!dataTable) return;\n",
              "\n",
              "          const docLinkHtml = 'Like what you see? Visit the ' +\n",
              "            '<a target=\"_blank\" href=https://colab.research.google.com/notebooks/data_table.ipynb>data table notebook</a>'\n",
              "            + ' to learn more about interactive tables.';\n",
              "          element.innerHTML = '';\n",
              "          dataTable['output_type'] = 'display_data';\n",
              "          await google.colab.output.renderOutput(dataTable, element);\n",
              "          const docLink = document.createElement('div');\n",
              "          docLink.innerHTML = docLinkHtml;\n",
              "          element.appendChild(docLink);\n",
              "        }\n",
              "      </script>\n",
              "    </div>\n",
              "  </div>\n",
              "  "
            ]
          },
          "metadata": {},
          "execution_count": 8
        }
      ],
      "source": [
        "music.describe()"
      ]
    },
    {
      "cell_type": "markdown",
      "metadata": {
        "id": "DCRnHxOW9nuI"
      },
      "source": [
        "* there is a faulty  values in acousticness column\n",
        "\n"
      ]
    },
    {
      "cell_type": "code",
      "execution_count": null,
      "metadata": {
        "colab": {
          "base_uri": "https://localhost:8080/",
          "height": 175
        },
        "id": "X1gfFPYr9nuJ",
        "outputId": "dc221a8a-3935-4a79-ab04-898a33d9eb0b"
      },
      "outputs": [
        {
          "output_type": "execute_result",
          "data": {
            "text/plain": [
              "            key   mode  Class\n",
              "count   12784.0  14396  14396\n",
              "unique     11.0      2     11\n",
              "top         7.0      1     10\n",
              "freq     1684.0   9193   3959"
            ],
            "text/html": [
              "\n",
              "  <div id=\"df-3a47d585-4f4f-4642-8317-7950d0743d09\">\n",
              "    <div class=\"colab-df-container\">\n",
              "      <div>\n",
              "<style scoped>\n",
              "    .dataframe tbody tr th:only-of-type {\n",
              "        vertical-align: middle;\n",
              "    }\n",
              "\n",
              "    .dataframe tbody tr th {\n",
              "        vertical-align: top;\n",
              "    }\n",
              "\n",
              "    .dataframe thead th {\n",
              "        text-align: right;\n",
              "    }\n",
              "</style>\n",
              "<table border=\"1\" class=\"dataframe\">\n",
              "  <thead>\n",
              "    <tr style=\"text-align: right;\">\n",
              "      <th></th>\n",
              "      <th>key</th>\n",
              "      <th>mode</th>\n",
              "      <th>Class</th>\n",
              "    </tr>\n",
              "  </thead>\n",
              "  <tbody>\n",
              "    <tr>\n",
              "      <th>count</th>\n",
              "      <td>12784.0</td>\n",
              "      <td>14396</td>\n",
              "      <td>14396</td>\n",
              "    </tr>\n",
              "    <tr>\n",
              "      <th>unique</th>\n",
              "      <td>11.0</td>\n",
              "      <td>2</td>\n",
              "      <td>11</td>\n",
              "    </tr>\n",
              "    <tr>\n",
              "      <th>top</th>\n",
              "      <td>7.0</td>\n",
              "      <td>1</td>\n",
              "      <td>10</td>\n",
              "    </tr>\n",
              "    <tr>\n",
              "      <th>freq</th>\n",
              "      <td>1684.0</td>\n",
              "      <td>9193</td>\n",
              "      <td>3959</td>\n",
              "    </tr>\n",
              "  </tbody>\n",
              "</table>\n",
              "</div>\n",
              "      <button class=\"colab-df-convert\" onclick=\"convertToInteractive('df-3a47d585-4f4f-4642-8317-7950d0743d09')\"\n",
              "              title=\"Convert this dataframe to an interactive table.\"\n",
              "              style=\"display:none;\">\n",
              "        \n",
              "  <svg xmlns=\"http://www.w3.org/2000/svg\" height=\"24px\"viewBox=\"0 0 24 24\"\n",
              "       width=\"24px\">\n",
              "    <path d=\"M0 0h24v24H0V0z\" fill=\"none\"/>\n",
              "    <path d=\"M18.56 5.44l.94 2.06.94-2.06 2.06-.94-2.06-.94-.94-2.06-.94 2.06-2.06.94zm-11 1L8.5 8.5l.94-2.06 2.06-.94-2.06-.94L8.5 2.5l-.94 2.06-2.06.94zm10 10l.94 2.06.94-2.06 2.06-.94-2.06-.94-.94-2.06-.94 2.06-2.06.94z\"/><path d=\"M17.41 7.96l-1.37-1.37c-.4-.4-.92-.59-1.43-.59-.52 0-1.04.2-1.43.59L10.3 9.45l-7.72 7.72c-.78.78-.78 2.05 0 2.83L4 21.41c.39.39.9.59 1.41.59.51 0 1.02-.2 1.41-.59l7.78-7.78 2.81-2.81c.8-.78.8-2.07 0-2.86zM5.41 20L4 18.59l7.72-7.72 1.47 1.35L5.41 20z\"/>\n",
              "  </svg>\n",
              "      </button>\n",
              "      \n",
              "  <style>\n",
              "    .colab-df-container {\n",
              "      display:flex;\n",
              "      flex-wrap:wrap;\n",
              "      gap: 12px;\n",
              "    }\n",
              "\n",
              "    .colab-df-convert {\n",
              "      background-color: #E8F0FE;\n",
              "      border: none;\n",
              "      border-radius: 50%;\n",
              "      cursor: pointer;\n",
              "      display: none;\n",
              "      fill: #1967D2;\n",
              "      height: 32px;\n",
              "      padding: 0 0 0 0;\n",
              "      width: 32px;\n",
              "    }\n",
              "\n",
              "    .colab-df-convert:hover {\n",
              "      background-color: #E2EBFA;\n",
              "      box-shadow: 0px 1px 2px rgba(60, 64, 67, 0.3), 0px 1px 3px 1px rgba(60, 64, 67, 0.15);\n",
              "      fill: #174EA6;\n",
              "    }\n",
              "\n",
              "    [theme=dark] .colab-df-convert {\n",
              "      background-color: #3B4455;\n",
              "      fill: #D2E3FC;\n",
              "    }\n",
              "\n",
              "    [theme=dark] .colab-df-convert:hover {\n",
              "      background-color: #434B5C;\n",
              "      box-shadow: 0px 1px 3px 1px rgba(0, 0, 0, 0.15);\n",
              "      filter: drop-shadow(0px 1px 2px rgba(0, 0, 0, 0.3));\n",
              "      fill: #FFFFFF;\n",
              "    }\n",
              "  </style>\n",
              "\n",
              "      <script>\n",
              "        const buttonEl =\n",
              "          document.querySelector('#df-3a47d585-4f4f-4642-8317-7950d0743d09 button.colab-df-convert');\n",
              "        buttonEl.style.display =\n",
              "          google.colab.kernel.accessAllowed ? 'block' : 'none';\n",
              "\n",
              "        async function convertToInteractive(key) {\n",
              "          const element = document.querySelector('#df-3a47d585-4f4f-4642-8317-7950d0743d09');\n",
              "          const dataTable =\n",
              "            await google.colab.kernel.invokeFunction('convertToInteractive',\n",
              "                                                     [key], {});\n",
              "          if (!dataTable) return;\n",
              "\n",
              "          const docLinkHtml = 'Like what you see? Visit the ' +\n",
              "            '<a target=\"_blank\" href=https://colab.research.google.com/notebooks/data_table.ipynb>data table notebook</a>'\n",
              "            + ' to learn more about interactive tables.';\n",
              "          element.innerHTML = '';\n",
              "          dataTable['output_type'] = 'display_data';\n",
              "          await google.colab.output.renderOutput(dataTable, element);\n",
              "          const docLink = document.createElement('div');\n",
              "          docLink.innerHTML = docLinkHtml;\n",
              "          element.appendChild(docLink);\n",
              "        }\n",
              "      </script>\n",
              "    </div>\n",
              "  </div>\n",
              "  "
            ]
          },
          "metadata": {},
          "execution_count": 9
        }
      ],
      "source": [
        "music.describe(include = \"O\")"
      ]
    },
    {
      "cell_type": "code",
      "execution_count": null,
      "metadata": {
        "colab": {
          "base_uri": "https://localhost:8080/"
        },
        "execution": {
          "iopub.execute_input": "2022-11-13T22:45:00.178485Z",
          "iopub.status.busy": "2022-11-13T22:45:00.178104Z",
          "iopub.status.idle": "2022-11-13T22:45:00.188285Z",
          "shell.execute_reply": "2022-11-13T22:45:00.187239Z",
          "shell.execute_reply.started": "2022-11-13T22:45:00.178454Z"
        },
        "id": "9HUYsKDPf9as",
        "outputId": "26f5a9b2-5825-4993-aabb-97f68b72c16b"
      },
      "outputs": [
        {
          "output_type": "execute_result",
          "data": {
            "text/plain": [
              "instrumentalness      3559\n",
              "key                   1612\n",
              "Popularity             351\n",
              "danceability             0\n",
              "energy                   0\n",
              "loudness                 0\n",
              "mode                     0\n",
              "speechiness              0\n",
              "acousticness             0\n",
              "liveness                 0\n",
              "valence                  0\n",
              "tempo                    0\n",
              "duration_in min/ms       0\n",
              "time_signature           0\n",
              "Class                    0\n",
              "dtype: int64"
            ]
          },
          "metadata": {},
          "execution_count": 10
        }
      ],
      "source": [
        "music.isna().sum().sort_values(ascending = False)"
      ]
    },
    {
      "cell_type": "code",
      "execution_count": null,
      "metadata": {
        "colab": {
          "base_uri": "https://localhost:8080/"
        },
        "execution": {
          "iopub.execute_input": "2022-11-13T22:56:28.609304Z",
          "iopub.status.busy": "2022-11-13T22:56:28.608907Z",
          "iopub.status.idle": "2022-11-13T22:56:28.628537Z",
          "shell.execute_reply": "2022-11-13T22:56:28.627720Z",
          "shell.execute_reply.started": "2022-11-13T22:56:28.609264Z"
        },
        "id": "e4gVYfMYf9at",
        "outputId": "ac228e19-651d-47b5-feec-aefe7c0cd01b"
      },
      "outputs": [
        {
          "output_type": "execute_result",
          "data": {
            "text/plain": [
              "29"
            ]
          },
          "metadata": {},
          "execution_count": 11
        }
      ],
      "source": [
        "music.duplicated().sum()"
      ]
    },
    {
      "cell_type": "markdown",
      "metadata": {
        "id": "7LyelgFnf9at"
      },
      "source": [
        "* There are 29 rows duplicated"
      ]
    },
    {
      "cell_type": "code",
      "execution_count": null,
      "metadata": {
        "execution": {
          "iopub.execute_input": "2022-11-13T23:07:32.805596Z",
          "iopub.status.busy": "2022-11-13T23:07:32.805148Z",
          "iopub.status.idle": "2022-11-13T23:07:32.823138Z",
          "shell.execute_reply": "2022-11-13T23:07:32.822342Z",
          "shell.execute_reply.started": "2022-11-13T23:07:32.805556Z"
        },
        "id": "PsoJtzLJf9au"
      },
      "outputs": [],
      "source": [
        "music.drop_duplicates(inplace = True )"
      ]
    },
    {
      "cell_type": "code",
      "execution_count": null,
      "metadata": {
        "colab": {
          "base_uri": "https://localhost:8080/",
          "height": 1000
        },
        "execution": {
          "iopub.execute_input": "2022-11-13T23:07:35.563996Z",
          "iopub.status.busy": "2022-11-13T23:07:35.563658Z",
          "iopub.status.idle": "2022-11-13T23:07:38.599674Z",
          "shell.execute_reply": "2022-11-13T23:07:38.598179Z",
          "shell.execute_reply.started": "2022-11-13T23:07:35.563970Z"
        },
        "id": "e0XnXsS4f9au",
        "outputId": "bcea99a6-44f3-483d-d20b-1807637fb1f5",
        "scrolled": false
      },
      "outputs": [
        {
          "output_type": "execute_result",
          "data": {
            "text/plain": [
              "array([[<matplotlib.axes._subplots.AxesSubplot object at 0x7f3a0c4d6df0>,\n",
              "        <matplotlib.axes._subplots.AxesSubplot object at 0x7f3a0c4b8280>,\n",
              "        <matplotlib.axes._subplots.AxesSubplot object at 0x7f3a0c4696a0>],\n",
              "       [<matplotlib.axes._subplots.AxesSubplot object at 0x7f3a0c415a90>,\n",
              "        <matplotlib.axes._subplots.AxesSubplot object at 0x7f3a0c441e80>,\n",
              "        <matplotlib.axes._subplots.AxesSubplot object at 0x7f3a0c3fc1f0>],\n",
              "       [<matplotlib.axes._subplots.AxesSubplot object at 0x7f3a0c3fc2e0>,\n",
              "        <matplotlib.axes._subplots.AxesSubplot object at 0x7f3a0c3aa760>,\n",
              "        <matplotlib.axes._subplots.AxesSubplot object at 0x7f3a0c386ee0>],\n",
              "       [<matplotlib.axes._subplots.AxesSubplot object at 0x7f3a0c33e310>,\n",
              "        <matplotlib.axes._subplots.AxesSubplot object at 0x7f3a0c2e9730>,\n",
              "        <matplotlib.axes._subplots.AxesSubplot object at 0x7f3a0c29cd00>]],\n",
              "      dtype=object)"
            ]
          },
          "metadata": {},
          "execution_count": 13
        },
        {
          "output_type": "display_data",
          "data": {
            "text/plain": [
              "<Figure size 1080x1080 with 12 Axes>"
            ],
            "image/png": "[encoded data removed]"
          },
          "metadata": {
            "needs_background": "light"
          }
        }
      ],
      "source": [
        "music.hist(bins = 40 , figsize = (15,15))"
      ]
    },
    {
      "cell_type": "markdown",
      "metadata": {
        "id": "vkHFgziM9nuP"
      },
      "source": [
        "* Some columns are skewed, so we have to do some processing.\n"
      ]
    },
    {
      "cell_type": "code",
      "execution_count": null,
      "metadata": {
        "colab": {
          "base_uri": "https://localhost:8080/"
        },
        "id": "1AT8OTTou75A",
        "outputId": "9e6259af-8695-4273-a3de-ca188742d951"
      },
      "outputs": [
        {
          "output_type": "stream",
          "name": "stdout",
          "text": [
            "Skewness in Popularity = 0.08161272484711232\n",
            "Skewness in danceability = -0.08288767433869461\n",
            "Skewness in energy = -0.6674422622513343\n",
            "Skewness in loudness = -1.777560925830212\n",
            "Skewness in speechiness = 3.075811439525631\n",
            "Skewness in acousticness = 1.1064742348936547\n",
            "Skewness in instrumentalness = 1.531787053651494\n",
            "Skewness in liveness = 2.1813991071421843\n",
            "Skewness in valence = 0.09345903305377608\n",
            "Skewness in tempo = 0.3808391096388975\n",
            "Skewness in duration_in min/ms = 0.8312133152171077\n",
            "Skewness in time_signature = -4.219046669662773\n"
          ]
        }
      ],
      "source": [
        "music_cont = music.select_dtypes([int,float]) \n",
        "\n",
        "for i in music_cont.columns:\n",
        "  print(f'Skewness in {i} =',music_cont[i].skew())"
      ]
    },
    {
      "cell_type": "markdown",
      "metadata": {
        "id": "X4MIEKII9nuP"
      },
      "source": [
        "# **Data visualization**"
      ]
    },
    {
      "cell_type": "markdown",
      "metadata": {
        "id": "vB13w7It9nuQ"
      },
      "source": [
        "## 1- Univariate Analysis"
      ]
    },
    {
      "cell_type": "code",
      "execution_count": null,
      "metadata": {
        "colab": {
          "base_uri": "https://localhost:8080/"
        },
        "execution": {
          "iopub.execute_input": "2022-11-13T23:14:40.673360Z",
          "iopub.status.busy": "2022-11-13T23:14:40.672911Z",
          "iopub.status.idle": "2022-11-13T23:14:40.682419Z",
          "shell.execute_reply": "2022-11-13T23:14:40.681200Z",
          "shell.execute_reply.started": "2022-11-13T23:14:40.673332Z"
        },
        "id": "9KErYmgXf9au",
        "outputId": "80479888-c793-4b2e-ef58-e343e5d53707"
      },
      "outputs": [
        {
          "output_type": "execute_result",
          "data": {
            "text/plain": [
              "11"
            ]
          },
          "metadata": {},
          "execution_count": 15
        }
      ],
      "source": [
        "music[\"Class\"].nunique()"
      ]
    },
    {
      "cell_type": "code",
      "execution_count": null,
      "metadata": {
        "colab": {
          "base_uri": "https://localhost:8080/"
        },
        "execution": {
          "iopub.execute_input": "2022-11-13T23:13:49.554139Z",
          "iopub.status.busy": "2022-11-13T23:13:49.553755Z",
          "iopub.status.idle": "2022-11-13T23:13:49.563471Z",
          "shell.execute_reply": "2022-11-13T23:13:49.562061Z",
          "shell.execute_reply.started": "2022-11-13T23:13:49.554110Z"
        },
        "id": "cI11Jjxff9au",
        "outputId": "8a856315-1e09-4c83-c080-1e514c50338c"
      },
      "outputs": [
        {
          "output_type": "execute_result",
          "data": {
            "text/plain": [
              "10    3946\n",
              "6     2066\n",
              "9     2017\n",
              "8     1479\n",
              "5     1156\n",
              "1     1095\n",
              "2     1015\n",
              "0      500\n",
              "7      461\n",
              "3      322\n",
              "4      310\n",
              "Name: Class, dtype: int64"
            ]
          },
          "metadata": {},
          "execution_count": 16
        }
      ],
      "source": [
        "music[\"Class\"].value_counts().sort_values(ascending = False)"
      ]
    },
    {
      "cell_type": "code",
      "execution_count": null,
      "metadata": {
        "colab": {
          "base_uri": "https://localhost:8080/"
        },
        "id": "bJmdMy2If9av",
        "outputId": "a0fa6213-b3a9-4204-a200-c156851a6572",
        "scrolled": false
      },
      "outputs": [
        {
          "output_type": "execute_result",
          "data": {
            "text/plain": [
              "<matplotlib.axes._subplots.AxesSubplot at 0x7f3a0bc048e0>"
            ]
          },
          "metadata": {},
          "execution_count": 17
        },
        {
          "output_type": "display_data",
          "data": {
            "text/plain": [
              "<Figure size 432x288 with 1 Axes>"
            ],
            "image/png": "[encoded data removed]"
          },
          "metadata": {
            "needs_background": "light"
          }
        }
      ],
      "source": [
        "sns.countplot(x='Class', data=music)"
      ]
    },
    {
      "cell_type": "markdown",
      "metadata": {
        "id": "KPoeqj4P9nuS"
      },
      "source": [
        "* From plot , Class 10 has largest number of instances followed by class 6 and class 9."
      ]
    },
    {
      "cell_type": "code",
      "execution_count": null,
      "metadata": {
        "colab": {
          "base_uri": "https://localhost:8080/"
        },
        "id": "naXO3ELxD_kF",
        "outputId": "f882f71c-84bb-4856-9403-0b767431a9c4"
      },
      "outputs": [
        {
          "output_type": "execute_result",
          "data": {
            "text/plain": [
              "<matplotlib.axes._subplots.AxesSubplot at 0x7f3a0b69bee0>"
            ]
          },
          "metadata": {},
          "execution_count": 18
        },
        {
          "output_type": "display_data",
          "data": {
            "text/plain": [
              "<Figure size 432x288 with 1 Axes>"
            ],
            "image/png": "[encoded data removed]"
          },
          "metadata": {
            "needs_background": "light"
          }
        }
      ],
      "source": [
        "sns.countplot(x='mode', data=music)"
      ]
    },
    {
      "cell_type": "markdown",
      "metadata": {
        "id": "Zl9lNZwQXuvK"
      },
      "source": [
        "* Most tracks in data are Major"
      ]
    },
    {
      "cell_type": "code",
      "execution_count": null,
      "metadata": {
        "colab": {
          "base_uri": "https://localhost:8080/"
        },
        "id": "qx2tiPOaW90H",
        "outputId": "9fc999ed-58f0-49f1-f72c-86f76d608742"
      },
      "outputs": [
        {
          "output_type": "execute_result",
          "data": {
            "text/plain": [
              "<matplotlib.axes._subplots.AxesSubplot at 0x7f3a0b654520>"
            ]
          },
          "metadata": {},
          "execution_count": 19
        },
        {
          "output_type": "display_data",
          "data": {
            "text/plain": [
              "<Figure size 1440x576 with 1 Axes>"
            ],
            "image/png": "[encoded data removed]"
          },
          "metadata": {}
        }
      ],
      "source": [
        "fig = plt.figure(figsize=(20, 8), facecolor='white')\n",
        "gs = fig.add_gridspec(1, 1)\n",
        "\n",
        "ax = fig.add_subplot(gs[0, 0])\n",
        "\n",
        "ax.set_title('Distribution of Keys', fontsize=15)\n",
        "\n",
        "ax.grid(color='black', linestyle=':', axis='y', zorder=0,  dashes=(1,5))\n",
        "\n",
        "sns.countplot(x = 'key', data = music)"
      ]
    },
    {
      "cell_type": "markdown",
      "metadata": {
        "id": "rdP3a1-Mck-f"
      },
      "source": [
        "* From the plot, Key 7 has the most significant number of instances followed by class 2 and class 9."
      ]
    },
    {
      "cell_type": "code",
      "execution_count": null,
      "metadata": {
        "colab": {
          "base_uri": "https://localhost:8080/"
        },
        "id": "64_ZFFU6hq2q",
        "outputId": "79def6cb-6b5a-47e4-9821-eb17fd98991d"
      },
      "outputs": [
        {
          "output_type": "display_data",
          "data": {
            "text/plain": [
              "<Figure size 1080x360 with 1 Axes>"
            ],
            "image/png": "[encoded data removed]"
          },
          "metadata": {}
        }
      ],
      "source": [
        "fig = plt.figure(figsize=(15, 5), facecolor='white')\n",
        "gs = fig.add_gridspec(1, 1)\n",
        "\n",
        "ax = fig.add_subplot(gs[0, 0])\n",
        "ax.set_title('Distribution of Time Signature', fontsize=15)\n",
        "sns.countplot(x = 'time_signature', data = music, zorder=2,alpha=1,\n",
        "              palette =\"Blues\")\n",
        "plt.show()"
      ]
    },
    {
      "cell_type": "markdown",
      "metadata": {
        "id": "TGkua-8FqM8n"
      },
      "source": [
        "* About '85% of the songs have a time signature of 4."
      ]
    },
    {
      "cell_type": "code",
      "execution_count": null,
      "metadata": {
        "colab": {
          "base_uri": "https://localhost:8080/"
        },
        "id": "ZDLrGk60nKJw",
        "outputId": "7c284ad6-8f4a-4fbc-9d8d-204d99e9d0c4"
      },
      "outputs": [
        {
          "output_type": "execute_result",
          "data": {
            "text/plain": [
              "   time_signature  count\n",
              "0               1     84\n",
              "1               3    950\n",
              "2               4  13174\n",
              "3               5    159"
            ],
            "text/html": [
              "\n",
              "  <div id=\"df-6a68260e-bfe7-4b77-94ff-7a00005bed16\">\n",
              "    <div class=\"colab-df-container\">\n",
              "      <div>\n",
              "<style scoped>\n",
              "    .dataframe tbody tr th:only-of-type {\n",
              "        vertical-align: middle;\n",
              "    }\n",
              "\n",
              "    .dataframe tbody tr th {\n",
              "        vertical-align: top;\n",
              "    }\n",
              "\n",
              "    .dataframe thead th {\n",
              "        text-align: right;\n",
              "    }\n",
              "</style>\n",
              "<table border=\"1\" class=\"dataframe\">\n",
              "  <thead>\n",
              "    <tr style=\"text-align: right;\">\n",
              "      <th></th>\n",
              "      <th>time_signature</th>\n",
              "      <th>count</th>\n",
              "    </tr>\n",
              "  </thead>\n",
              "  <tbody>\n",
              "    <tr>\n",
              "      <th>0</th>\n",
              "      <td>1</td>\n",
              "      <td>84</td>\n",
              "    </tr>\n",
              "    <tr>\n",
              "      <th>1</th>\n",
              "      <td>3</td>\n",
              "      <td>950</td>\n",
              "    </tr>\n",
              "    <tr>\n",
              "      <th>2</th>\n",
              "      <td>4</td>\n",
              "      <td>13174</td>\n",
              "    </tr>\n",
              "    <tr>\n",
              "      <th>3</th>\n",
              "      <td>5</td>\n",
              "      <td>159</td>\n",
              "    </tr>\n",
              "  </tbody>\n",
              "</table>\n",
              "</div>\n",
              "      <button class=\"colab-df-convert\" onclick=\"convertToInteractive('df-6a68260e-bfe7-4b77-94ff-7a00005bed16')\"\n",
              "              title=\"Convert this dataframe to an interactive table.\"\n",
              "              style=\"display:none;\">\n",
              "        \n",
              "  <svg xmlns=\"http://www.w3.org/2000/svg\" height=\"24px\"viewBox=\"0 0 24 24\"\n",
              "       width=\"24px\">\n",
              "    <path d=\"M0 0h24v24H0V0z\" fill=\"none\"/>\n",
              "    <path d=\"M18.56 5.44l.94 2.06.94-2.06 2.06-.94-2.06-.94-.94-2.06-.94 2.06-2.06.94zm-11 1L8.5 8.5l.94-2.06 2.06-.94-2.06-.94L8.5 2.5l-.94 2.06-2.06.94zm10 10l.94 2.06.94-2.06 2.06-.94-2.06-.94-.94-2.06-.94 2.06-2.06.94z\"/><path d=\"M17.41 7.96l-1.37-1.37c-.4-.4-.92-.59-1.43-.59-.52 0-1.04.2-1.43.59L10.3 9.45l-7.72 7.72c-.78.78-.78 2.05 0 2.83L4 21.41c.39.39.9.59 1.41.59.51 0 1.02-.2 1.41-.59l7.78-7.78 2.81-2.81c.8-.78.8-2.07 0-2.86zM5.41 20L4 18.59l7.72-7.72 1.47 1.35L5.41 20z\"/>\n",
              "  </svg>\n",
              "      </button>\n",
              "      \n",
              "  <style>\n",
              "    .colab-df-container {\n",
              "      display:flex;\n",
              "      flex-wrap:wrap;\n",
              "      gap: 12px;\n",
              "    }\n",
              "\n",
              "    .colab-df-convert {\n",
              "      background-color: #E8F0FE;\n",
              "      border: none;\n",
              "      border-radius: 50%;\n",
              "      cursor: pointer;\n",
              "      display: none;\n",
              "      fill: #1967D2;\n",
              "      height: 32px;\n",
              "      padding: 0 0 0 0;\n",
              "      width: 32px;\n",
              "    }\n",
              "\n",
              "    .colab-df-convert:hover {\n",
              "      background-color: #E2EBFA;\n",
              "      box-shadow: 0px 1px 2px rgba(60, 64, 67, 0.3), 0px 1px 3px 1px rgba(60, 64, 67, 0.15);\n",
              "      fill: #174EA6;\n",
              "    }\n",
              "\n",
              "    [theme=dark] .colab-df-convert {\n",
              "      background-color: #3B4455;\n",
              "      fill: #D2E3FC;\n",
              "    }\n",
              "\n",
              "    [theme=dark] .colab-df-convert:hover {\n",
              "      background-color: #434B5C;\n",
              "      box-shadow: 0px 1px 3px 1px rgba(0, 0, 0, 0.15);\n",
              "      filter: drop-shadow(0px 1px 2px rgba(0, 0, 0, 0.3));\n",
              "      fill: #FFFFFF;\n",
              "    }\n",
              "  </style>\n",
              "\n",
              "      <script>\n",
              "        const buttonEl =\n",
              "          document.querySelector('#df-6a68260e-bfe7-4b77-94ff-7a00005bed16 button.colab-df-convert');\n",
              "        buttonEl.style.display =\n",
              "          google.colab.kernel.accessAllowed ? 'block' : 'none';\n",
              "\n",
              "        async function convertToInteractive(key) {\n",
              "          const element = document.querySelector('#df-6a68260e-bfe7-4b77-94ff-7a00005bed16');\n",
              "          const dataTable =\n",
              "            await google.colab.kernel.invokeFunction('convertToInteractive',\n",
              "                                                     [key], {});\n",
              "          if (!dataTable) return;\n",
              "\n",
              "          const docLinkHtml = 'Like what you see? Visit the ' +\n",
              "            '<a target=\"_blank\" href=https://colab.research.google.com/notebooks/data_table.ipynb>data table notebook</a>'\n",
              "            + ' to learn more about interactive tables.';\n",
              "          element.innerHTML = '';\n",
              "          dataTable['output_type'] = 'display_data';\n",
              "          await google.colab.output.renderOutput(dataTable, element);\n",
              "          const docLink = document.createElement('div');\n",
              "          docLink.innerHTML = docLinkHtml;\n",
              "          element.appendChild(docLink);\n",
              "        }\n",
              "      </script>\n",
              "    </div>\n",
              "  </div>\n",
              "  "
            ]
          },
          "metadata": {},
          "execution_count": 21
        }
      ],
      "source": [
        "time_data = pd.DataFrame(music['time_signature'].value_counts().sort_index()).reset_index().rename({'index':'time_signature', 'time_signature': 'count'},\n",
        "                                                                                                   axis=1)\n",
        "\n",
        "time_data"
      ]
    },
    {
      "cell_type": "code",
      "execution_count": null,
      "metadata": {
        "id": "sc7qXlOpXuss"
      },
      "outputs": [],
      "source": [
        "num_atr = music.select_dtypes([int,float])"
      ]
    },
    {
      "cell_type": "code",
      "execution_count": null,
      "metadata": {
        "colab": {
          "base_uri": "https://localhost:8080/"
        },
        "id": "a9jdLOFZXumn",
        "outputId": "e6c9e56c-9c37-41df-9e39-30543db1b99d"
      },
      "outputs": [
        {
          "output_type": "execute_result",
          "data": {
            "text/plain": [
              "<matplotlib.axes._subplots.AxesSubplot at 0x7f3a0bba4be0>"
            ]
          },
          "metadata": {},
          "execution_count": 23
        },
        {
          "output_type": "display_data",
          "data": {
            "text/plain": [
              "<Figure size 432x288 with 2 Axes>"
            ],
            "image/png": "[encoded data removed]"
          },
          "metadata": {
            "needs_background": "light"
          }
        }
      ],
      "source": [
        "plt.subplot(121)\n",
        "sns.histplot(x = \"loudness\" , data = music, bins = 50)\n",
        "plt.subplot(122)\n",
        "sns.boxplot(y =\"loudness\", data = music)"
      ]
    },
    {
      "cell_type": "code",
      "execution_count": null,
      "metadata": {
        "colab": {
          "base_uri": "https://localhost:8080/"
        },
        "id": "cLM3-afO9nuU",
        "outputId": "6fa5828f-383d-4270-f5af-5a2da55c69b5"
      },
      "outputs": [
        {
          "output_type": "execute_result",
          "data": {
            "text/plain": [
              "<matplotlib.axes._subplots.AxesSubplot at 0x7f3a0b411ac0>"
            ]
          },
          "metadata": {},
          "execution_count": 24
        },
        {
          "output_type": "display_data",
          "data": {
            "text/plain": [
              "<Figure size 432x288 with 2 Axes>"
            ],
            "image/png": "[encoded data removed]"
          },
          "metadata": {
            "needs_background": "light"
          }
        }
      ],
      "source": [
        "\n",
        "plt.subplot(121)\n",
        "sns.histplot(x = \"speechiness\" , data = music, bins = 60)\n",
        "plt.subplot(122)\n",
        "sns.boxplot(y =\"speechiness\", data = music)"
      ]
    },
    {
      "cell_type": "markdown",
      "metadata": {
        "id": "65NBIzdBXugf"
      },
      "source": [
        "* From the plots, there are possibly some outliers."
      ]
    },
    {
      "cell_type": "code",
      "execution_count": null,
      "metadata": {
        "colab": {
          "base_uri": "https://localhost:8080/"
        },
        "id": "QHposAVIXubt",
        "outputId": "7fd4eed7-9805-459a-c56b-4ae85e634551"
      },
      "outputs": [
        {
          "output_type": "execute_result",
          "data": {
            "text/plain": [
              "<matplotlib.axes._subplots.AxesSubplot at 0x7f3a0b26f820>"
            ]
          },
          "metadata": {},
          "execution_count": 25
        },
        {
          "output_type": "display_data",
          "data": {
            "text/plain": [
              "<Figure size 432x288 with 2 Axes>"
            ],
            "image/png": "[encoded data removed]"
          },
          "metadata": {
            "needs_background": "light"
          }
        }
      ],
      "source": [
        "plt.subplot(121)\n",
        "sns.histplot(x = \"acousticness\" , data = music, bins = 60)\n",
        "plt.subplot(122)\n",
        "sns.boxplot(y = \"acousticness\" , data = music)\n"
      ]
    },
    {
      "cell_type": "code",
      "execution_count": null,
      "metadata": {
        "colab": {
          "base_uri": "https://localhost:8080/"
        },
        "id": "sIMZjarcXuZU",
        "outputId": "5813e92a-a563-444f-e913-11385ac243da"
      },
      "outputs": [
        {
          "output_type": "execute_result",
          "data": {
            "text/plain": [
              "<matplotlib.axes._subplots.AxesSubplot at 0x7f3a0b135700>"
            ]
          },
          "metadata": {},
          "execution_count": 26
        },
        {
          "output_type": "display_data",
          "data": {
            "text/plain": [
              "<Figure size 432x288 with 2 Axes>"
            ],
            "image/png": "[encoded data removed]"
          },
          "metadata": {
            "needs_background": "light"
          }
        }
      ],
      "source": [
        "plt.subplot(121)\n",
        "sns.histplot(x = \"instrumentalness\" , data = music, bins = 60)\n",
        "plt.subplot(122)\n",
        "sns.boxplot(y = \"instrumentalness\" , data = music)"
      ]
    },
    {
      "cell_type": "markdown",
      "metadata": {
        "id": "MfZ69DseXuNX"
      },
      "source": [
        "## 2- Bivariate Analysis"
      ]
    },
    {
      "cell_type": "code",
      "execution_count": null,
      "metadata": {
        "colab": {
          "base_uri": "https://localhost:8080/"
        },
        "id": "HY-9MJu783z8",
        "outputId": "d7b50463-e587-4b67-f11f-27bb1e712e70"
      },
      "outputs": [
        {
          "output_type": "execute_result",
          "data": {
            "text/plain": [
              "<matplotlib.axes._subplots.AxesSubplot at 0x7f3a0b127490>"
            ]
          },
          "metadata": {},
          "execution_count": 27
        },
        {
          "output_type": "display_data",
          "data": {
            "text/plain": [
              "<Figure size 1152x576 with 2 Axes>"
            ],
            "image/png": "[encoded data removed]"
          },
          "metadata": {
            "needs_background": "light"
          }
        }
      ],
      "source": [
        "plt.figure(figsize=(16, 8))\n",
        "sns.set(style=\"whitegrid\")\n",
        "corr = music.corr()\n",
        "sns.heatmap(corr,annot=True, cmap=\"YlGnBu\")"
      ]
    },
    {
      "cell_type": "code",
      "execution_count": null,
      "metadata": {
        "colab": {
          "base_uri": "https://localhost:8080/"
        },
        "id": "PbM9QNPdHd48",
        "outputId": "7b8dd475-5f41-464d-ed3d-26c52b2b5939"
      },
      "outputs": [
        {
          "output_type": "execute_result",
          "data": {
            "text/plain": [
              "Text(0.5, 1.0, 'Mean Energy for Song Class')"
            ]
          },
          "metadata": {},
          "execution_count": 28
        },
        {
          "output_type": "display_data",
          "data": {
            "text/plain": [
              "<Figure size 1440x360 with 1 Axes>"
            ],
            "image/png": "[encoded data removed]"
          },
          "metadata": {}
        }
      ],
      "source": [
        "plt.figure(figsize=(20, 5))\n",
        "sns.set(style=\"whitegrid\")\n",
        "\n",
        "x = music.groupby(\"Class\")[\"energy\"].mean()\n",
        "axis = sns.lineplot(x=x.index, y=x)\n",
        "\n",
        "axis.set_ylabel('Mean Energy Level')\n",
        "axis.set_xlabel('Class')\n",
        "axis.set_title(\"Mean Energy for Song Class\")"
      ]
    },
    {
      "cell_type": "code",
      "execution_count": null,
      "metadata": {
        "colab": {
          "base_uri": "https://localhost:8080/"
        },
        "id": "tQTdnEvdHxct",
        "outputId": "ae015ce1-9bd6-449c-9780-5ab4564066bc"
      },
      "outputs": [
        {
          "output_type": "execute_result",
          "data": {
            "text/plain": [
              "Text(0.5, 1.0, 'Mean Livness for Song Class')"
            ]
          },
          "metadata": {},
          "execution_count": 29
        },
        {
          "output_type": "display_data",
          "data": {
            "text/plain": [
              "<Figure size 1440x360 with 1 Axes>"
            ],
            "image/png": "[encoded data removed]"
          },
          "metadata": {}
        }
      ],
      "source": [
        "plt.figure(figsize=(20, 5))\n",
        "sns.set(style=\"whitegrid\")\n",
        "\n",
        "x = music.groupby(\"Class\")[\"liveness\"].mean()\n",
        "axis = sns.lineplot(x=x.index, y=x)\n",
        "\n",
        "axis.set_ylabel('mean liveness Level')\n",
        "axis.set_xlabel('class')\n",
        "axis.set_title(\"Mean Livness for Song Class\")"
      ]
    },
    {
      "cell_type": "code",
      "execution_count": null,
      "metadata": {
        "colab": {
          "base_uri": "https://localhost:8080/"
        },
        "id": "kQ9LrroI9nuZ",
        "outputId": "2b0c627b-ad0a-4370-8e27-aafdfd4dffca"
      },
      "outputs": [
        {
          "output_type": "execute_result",
          "data": {
            "text/plain": [
              "Text(0.5, 1.0, 'Mean Loudness for Song Class')"
            ]
          },
          "metadata": {},
          "execution_count": 30
        },
        {
          "output_type": "display_data",
          "data": {
            "text/plain": [
              "<Figure size 1440x360 with 1 Axes>"
            ],
            "image/png": "[encoded data removed]"
          },
          "metadata": {}
        }
      ],
      "source": [
        "plt.figure(figsize=(20, 5))\n",
        "sns.set(style=\"whitegrid\")\n",
        "\n",
        "x = music.groupby(\"Class\")[\"loudness\"].mean()\n",
        "axis = sns.lineplot(x=x.index, y=x)\n",
        "\n",
        "axis.set_ylabel('Mean loudness Level')\n",
        "axis.set_xlabel('Class')\n",
        "axis.set_title(\"Mean Loudness for Song Class\")"
      ]
    },
    {
      "cell_type": "code",
      "execution_count": null,
      "metadata": {
        "colab": {
          "base_uri": "https://localhost:8080/"
        },
        "id": "FZs_ugrE9nua",
        "outputId": "25fcbd2f-6a3f-45b0-a1fc-b83e8fee5a43"
      },
      "outputs": [
        {
          "output_type": "execute_result",
          "data": {
            "text/plain": [
              "Text(0.5, 1.0, 'valence vs danceability')"
            ]
          },
          "metadata": {},
          "execution_count": 31
        },
        {
          "output_type": "display_data",
          "data": {
            "text/plain": [
              "<Figure size 1440x360 with 1 Axes>"
            ],
            "image/png": "[encoded data removed]"
          },
          "metadata": {}
        }
      ],
      "source": [
        "plt.figure(figsize=(20, 5))\n",
        "axis = sns.lineplot(x=\"valence\", y=\"danceability\" , data = music )\n",
        "axis.set_xlabel('valence')\n",
        "axis.set_ylabel('danceability')\n",
        "axis.set_title(\"valence vs danceability\")"
      ]
    },
    {
      "cell_type": "code",
      "execution_count": null,
      "metadata": {
        "colab": {
          "base_uri": "https://localhost:8080/"
        },
        "id": "8GEFjrcC9nua",
        "outputId": "721b8698-528c-443f-f5f1-f373c696d0df"
      },
      "outputs": [
        {
          "output_type": "execute_result",
          "data": {
            "text/plain": [
              "Text(0.5, 1.0, 'energy vs loudness')"
            ]
          },
          "metadata": {},
          "execution_count": 32
        },
        {
          "output_type": "display_data",
          "data": {
            "text/plain": [
              "<Figure size 1440x360 with 1 Axes>"
            ],
            "image/png": "[encoded data removed]"
          },
          "metadata": {}
        }
      ],
      "source": [
        "plt.figure(figsize=(20, 5))\n",
        "axis = sns.lineplot(x=\"energy\", y=\"loudness\" , data = music )\n",
        "axis.set_xlabel('energy')\n",
        "axis.set_ylabel('loudness')\n",
        "axis.set_title(\"energy vs loudness\")"
      ]
    },
    {
      "cell_type": "markdown",
      "source": [
        "# **Data Preprocessing**"
      ],
      "metadata": {
        "id": "KBtLSIbEnSMW"
      }
    },
    {
      "cell_type": "markdown",
      "metadata": {
        "id": "uSZqgMW2DXa-"
      },
      "source": [
        "# 1- Imputing NaN values & Feature Scaling"
      ]
    },
    {
      "cell_type": "code",
      "execution_count": null,
      "metadata": {
        "scrolled": true,
        "id": "Y_f4-HeUfvmS"
      },
      "outputs": [],
      "source": [
        "num_attr = music.select_dtypes([int,float]) "
      ]
    },
    {
      "cell_type": "code",
      "execution_count": null,
      "metadata": {
        "id": "P95piwyqfvmT"
      },
      "outputs": [],
      "source": [
        "num_pipe = Pipeline([(\"imp\",SimpleImputer(missing_values = np.nan, strategy = 'median')),\n",
        "                     (\"scaler\",MinMaxScaler())\n",
        "                    ])"
      ]
    },
    {
      "cell_type": "code",
      "execution_count": null,
      "metadata": {
        "scrolled": true,
        "id": "_Hboq8z1fvmT",
        "colab": {
          "base_uri": "https://localhost:8080/"
        },
        "outputId": "b81a9468-a3c3-4a6b-ad21-82165e058e5e"
      },
      "outputs": [
        {
          "output_type": "stream",
          "name": "stderr",
          "text": [
            "/usr/local/lib/python3.8/dist-packages/pandas/core/frame.py:4906: SettingWithCopyWarning: \n",
            "A value is trying to be set on a copy of a slice from a DataFrame\n",
            "\n",
            "See the caveats in the documentation: https://pandas.pydata.org/pandas-docs/stable/user_guide/indexing.html#returning-a-view-versus-a-copy\n",
            "  return super().drop(\n"
          ]
        }
      ],
      "source": [
        "obj_attr =music.select_dtypes(object) \n",
        "obj_attr.drop(columns = \"Class\",axis = 1,inplace = True )"
      ]
    },
    {
      "cell_type": "code",
      "execution_count": null,
      "metadata": {
        "id": "V_MgLvCSfvmU"
      },
      "outputs": [],
      "source": [
        "obj_pipe = Pipeline([(\"imp\",SimpleImputer(missing_values = np.nan, strategy = 'most_frequent'))])"
      ]
    },
    {
      "cell_type": "markdown",
      "source": [
        "# 2- Transformation Pipelines"
      ],
      "metadata": {
        "id": "Bo9yYEzjkuPK"
      }
    },
    {
      "cell_type": "code",
      "execution_count": null,
      "metadata": {
        "id": "L_l3JAL0fvmV",
        "outputId": "7f22f948-6c95-49a4-b2a0-92be80524313",
        "colab": {
          "base_uri": "https://localhost:8080/"
        }
      },
      "outputs": [
        {
          "output_type": "execute_result",
          "data": {
            "text/plain": [
              "ColumnTransformer(transformers=[('num',\n",
              "                                 Pipeline(steps=[('imp',\n",
              "                                                  SimpleImputer(strategy='median')),\n",
              "                                                 ('scaler', MinMaxScaler())]),\n",
              "                                 ['Popularity', 'danceability', 'energy',\n",
              "                                  'loudness', 'speechiness', 'acousticness',\n",
              "                                  'instrumentalness', 'liveness', 'valence',\n",
              "                                  'tempo', 'duration_in min/ms',\n",
              "                                  'time_signature']),\n",
              "                                ('obj',\n",
              "                                 Pipeline(steps=[('imp',\n",
              "                                                  SimpleImputer(strategy='most_frequent'))]),\n",
              "                                 ['key', 'mode'])])"
            ]
          },
          "metadata": {},
          "execution_count": 37
        }
      ],
      "source": [
        "full_transform = ColumnTransformer([(\"num\",num_pipe,list(num_attr)),\n",
        "                                    (\"obj\",obj_pipe,list(obj_attr))\n",
        "                                   ])\n",
        "full_transform"
      ]
    },
    {
      "cell_type": "markdown",
      "source": [
        "**Fit and transform full_pipeline with music data then saved it in music_prepared**"
      ],
      "metadata": {
        "id": "K_wRa9FKlNak"
      }
    },
    {
      "cell_type": "code",
      "execution_count": null,
      "metadata": {
        "id": "_OM3ZI7xq2pU"
      },
      "outputs": [],
      "source": [
        "X= music.drop(columns=[\"Class\"], axis=1)\n",
        "y = music[\"Class\"]"
      ]
    },
    {
      "cell_type": "code",
      "execution_count": null,
      "metadata": {
        "colab": {
          "base_uri": "https://localhost:8080/"
        },
        "id": "qGsIOqhJq2pW",
        "outputId": "fb4e1b9f-f10f-489a-c02f-e92be7a3d562",
        "scrolled": true
      },
      "outputs": [
        {
          "output_type": "execute_result",
          "data": {
            "text/plain": [
              "(14367, 14)"
            ]
          },
          "metadata": {},
          "execution_count": 39
        }
      ],
      "source": [
        "music_prepared = full_transform.fit_transform(X)\n",
        "music_prepared.shape"
      ]
    },
    {
      "cell_type": "code",
      "execution_count": null,
      "metadata": {
        "id": "llB5PX2afvmW"
      },
      "outputs": [],
      "source": [
        "music_prepared = pd.DataFrame(music_prepared, columns = X.columns)"
      ]
    },
    {
      "cell_type": "markdown",
      "source": [
        "**Music dataset after transforming**"
      ],
      "metadata": {
        "id": "1t07PpFoqW-Q"
      }
    },
    {
      "cell_type": "code",
      "execution_count": null,
      "metadata": {
        "scrolled": true,
        "id": "DAbmsg5QfvmX",
        "outputId": "e51ebd2e-3ef8-4696-af98-069aff042eed",
        "colab": {
          "base_uri": "https://localhost:8080/",
          "height": 287
        }
      },
      "outputs": [
        {
          "output_type": "execute_result",
          "data": {
            "text/plain": [
              "  Popularity danceability    energy       key  loudness      mode speechiness  \\\n",
              "0   0.222222     0.333979  0.670664  0.700729  0.023592  0.812249    0.000005   \n",
              "1   0.444444     0.644932  0.639632  0.770184  0.391957  0.417671    0.003925   \n",
              "2   0.505051     0.428664  0.731726  0.675503  0.131367  0.048896    0.021585   \n",
              "3   0.393939     0.482462  0.287273  0.751785  0.027453  0.837349    0.003925   \n",
              "4   0.626263     0.529804  0.485475  0.746629  0.011475  0.519076    0.106425   \n",
              "\n",
              "  acousticness instrumentalness  liveness   valence tempo duration_in min/ms  \\\n",
              "0     0.225466         0.809858  0.780385  0.000003   0.5                7.0   \n",
              "1     0.103812         0.692053  0.356741  0.139861  0.75                6.0   \n",
              "2     0.103812         0.791258  0.252575  0.148227  0.75               11.0   \n",
              "3      0.08384         0.315904  0.338311  0.225067   0.5                5.0   \n",
              "4     0.152474         0.508112  0.204142  0.135509  0.75                9.0   \n",
              "\n",
              "  time_signature  \n",
              "0              0  \n",
              "1              1  \n",
              "2              0  \n",
              "3              0  \n",
              "4              1  "
            ],
            "text/html": [
              "\n",
              "  <div id=\"df-9dcc2631-fec6-4a2f-9418-380324c66b41\">\n",
              "    <div class=\"colab-df-container\">\n",
              "      <div>\n",
              "<style scoped>\n",
              "    .dataframe tbody tr th:only-of-type {\n",
              "        vertical-align: middle;\n",
              "    }\n",
              "\n",
              "    .dataframe tbody tr th {\n",
              "        vertical-align: top;\n",
              "    }\n",
              "\n",
              "    .dataframe thead th {\n",
              "        text-align: right;\n",
              "    }\n",
              "</style>\n",
              "<table border=\"1\" class=\"dataframe\">\n",
              "  <thead>\n",
              "    <tr style=\"text-align: right;\">\n",
              "      <th></th>\n",
              "      <th>Popularity</th>\n",
              "      <th>danceability</th>\n",
              "      <th>energy</th>\n",
              "      <th>key</th>\n",
              "      <th>loudness</th>\n",
              "      <th>mode</th>\n",
              "      <th>speechiness</th>\n",
              "      <th>acousticness</th>\n",
              "      <th>instrumentalness</th>\n",
              "      <th>liveness</th>\n",
              "      <th>valence</th>\n",
              "      <th>tempo</th>\n",
              "      <th>duration_in min/ms</th>\n",
              "      <th>time_signature</th>\n",
              "    </tr>\n",
              "  </thead>\n",
              "  <tbody>\n",
              "    <tr>\n",
              "      <th>0</th>\n",
              "      <td>0.222222</td>\n",
              "      <td>0.333979</td>\n",
              "      <td>0.670664</td>\n",
              "      <td>0.700729</td>\n",
              "      <td>0.023592</td>\n",
              "      <td>0.812249</td>\n",
              "      <td>0.000005</td>\n",
              "      <td>0.225466</td>\n",
              "      <td>0.809858</td>\n",
              "      <td>0.780385</td>\n",
              "      <td>0.000003</td>\n",
              "      <td>0.5</td>\n",
              "      <td>7.0</td>\n",
              "      <td>0</td>\n",
              "    </tr>\n",
              "    <tr>\n",
              "      <th>1</th>\n",
              "      <td>0.444444</td>\n",
              "      <td>0.644932</td>\n",
              "      <td>0.639632</td>\n",
              "      <td>0.770184</td>\n",
              "      <td>0.391957</td>\n",
              "      <td>0.417671</td>\n",
              "      <td>0.003925</td>\n",
              "      <td>0.103812</td>\n",
              "      <td>0.692053</td>\n",
              "      <td>0.356741</td>\n",
              "      <td>0.139861</td>\n",
              "      <td>0.75</td>\n",
              "      <td>6.0</td>\n",
              "      <td>1</td>\n",
              "    </tr>\n",
              "    <tr>\n",
              "      <th>2</th>\n",
              "      <td>0.505051</td>\n",
              "      <td>0.428664</td>\n",
              "      <td>0.731726</td>\n",
              "      <td>0.675503</td>\n",
              "      <td>0.131367</td>\n",
              "      <td>0.048896</td>\n",
              "      <td>0.021585</td>\n",
              "      <td>0.103812</td>\n",
              "      <td>0.791258</td>\n",
              "      <td>0.252575</td>\n",
              "      <td>0.148227</td>\n",
              "      <td>0.75</td>\n",
              "      <td>11.0</td>\n",
              "      <td>0</td>\n",
              "    </tr>\n",
              "    <tr>\n",
              "      <th>3</th>\n",
              "      <td>0.393939</td>\n",
              "      <td>0.482462</td>\n",
              "      <td>0.287273</td>\n",
              "      <td>0.751785</td>\n",
              "      <td>0.027453</td>\n",
              "      <td>0.837349</td>\n",
              "      <td>0.003925</td>\n",
              "      <td>0.08384</td>\n",
              "      <td>0.315904</td>\n",
              "      <td>0.338311</td>\n",
              "      <td>0.225067</td>\n",
              "      <td>0.5</td>\n",
              "      <td>5.0</td>\n",
              "      <td>0</td>\n",
              "    </tr>\n",
              "    <tr>\n",
              "      <th>4</th>\n",
              "      <td>0.626263</td>\n",
              "      <td>0.529804</td>\n",
              "      <td>0.485475</td>\n",
              "      <td>0.746629</td>\n",
              "      <td>0.011475</td>\n",
              "      <td>0.519076</td>\n",
              "      <td>0.106425</td>\n",
              "      <td>0.152474</td>\n",
              "      <td>0.508112</td>\n",
              "      <td>0.204142</td>\n",
              "      <td>0.135509</td>\n",
              "      <td>0.75</td>\n",
              "      <td>9.0</td>\n",
              "      <td>1</td>\n",
              "    </tr>\n",
              "  </tbody>\n",
              "</table>\n",
              "</div>\n",
              "      <button class=\"colab-df-convert\" onclick=\"convertToInteractive('df-9dcc2631-fec6-4a2f-9418-380324c66b41')\"\n",
              "              title=\"Convert this dataframe to an interactive table.\"\n",
              "              style=\"display:none;\">\n",
              "        \n",
              "  <svg xmlns=\"http://www.w3.org/2000/svg\" height=\"24px\"viewBox=\"0 0 24 24\"\n",
              "       width=\"24px\">\n",
              "    <path d=\"M0 0h24v24H0V0z\" fill=\"none\"/>\n",
              "    <path d=\"M18.56 5.44l.94 2.06.94-2.06 2.06-.94-2.06-.94-.94-2.06-.94 2.06-2.06.94zm-11 1L8.5 8.5l.94-2.06 2.06-.94-2.06-.94L8.5 2.5l-.94 2.06-2.06.94zm10 10l.94 2.06.94-2.06 2.06-.94-2.06-.94-.94-2.06-.94 2.06-2.06.94z\"/><path d=\"M17.41 7.96l-1.37-1.37c-.4-.4-.92-.59-1.43-.59-.52 0-1.04.2-1.43.59L10.3 9.45l-7.72 7.72c-.78.78-.78 2.05 0 2.83L4 21.41c.39.39.9.59 1.41.59.51 0 1.02-.2 1.41-.59l7.78-7.78 2.81-2.81c.8-.78.8-2.07 0-2.86zM5.41 20L4 18.59l7.72-7.72 1.47 1.35L5.41 20z\"/>\n",
              "  </svg>\n",
              "      </button>\n",
              "      \n",
              "  <style>\n",
              "    .colab-df-container {\n",
              "      display:flex;\n",
              "      flex-wrap:wrap;\n",
              "      gap: 12px;\n",
              "    }\n",
              "\n",
              "    .colab-df-convert {\n",
              "      background-color: #E8F0FE;\n",
              "      border: none;\n",
              "      border-radius: 50%;\n",
              "      cursor: pointer;\n",
              "      display: none;\n",
              "      fill: #1967D2;\n",
              "      height: 32px;\n",
              "      padding: 0 0 0 0;\n",
              "      width: 32px;\n",
              "    }\n",
              "\n",
              "    .colab-df-convert:hover {\n",
              "      background-color: #E2EBFA;\n",
              "      box-shadow: 0px 1px 2px rgba(60, 64, 67, 0.3), 0px 1px 3px 1px rgba(60, 64, 67, 0.15);\n",
              "      fill: #174EA6;\n",
              "    }\n",
              "\n",
              "    [theme=dark] .colab-df-convert {\n",
              "      background-color: #3B4455;\n",
              "      fill: #D2E3FC;\n",
              "    }\n",
              "\n",
              "    [theme=dark] .colab-df-convert:hover {\n",
              "      background-color: #434B5C;\n",
              "      box-shadow: 0px 1px 3px 1px rgba(0, 0, 0, 0.15);\n",
              "      filter: drop-shadow(0px 1px 2px rgba(0, 0, 0, 0.3));\n",
              "      fill: #FFFFFF;\n",
              "    }\n",
              "  </style>\n",
              "\n",
              "      <script>\n",
              "        const buttonEl =\n",
              "          document.querySelector('#df-9dcc2631-fec6-4a2f-9418-380324c66b41 button.colab-df-convert');\n",
              "        buttonEl.style.display =\n",
              "          google.colab.kernel.accessAllowed ? 'block' : 'none';\n",
              "\n",
              "        async function convertToInteractive(key) {\n",
              "          const element = document.querySelector('#df-9dcc2631-fec6-4a2f-9418-380324c66b41');\n",
              "          const dataTable =\n",
              "            await google.colab.kernel.invokeFunction('convertToInteractive',\n",
              "                                                     [key], {});\n",
              "          if (!dataTable) return;\n",
              "\n",
              "          const docLinkHtml = 'Like what you see? Visit the ' +\n",
              "            '<a target=\"_blank\" href=https://colab.research.google.com/notebooks/data_table.ipynb>data table notebook</a>'\n",
              "            + ' to learn more about interactive tables.';\n",
              "          element.innerHTML = '';\n",
              "          dataTable['output_type'] = 'display_data';\n",
              "          await google.colab.output.renderOutput(dataTable, element);\n",
              "          const docLink = document.createElement('div');\n",
              "          docLink.innerHTML = docLinkHtml;\n",
              "          element.appendChild(docLink);\n",
              "        }\n",
              "      </script>\n",
              "    </div>\n",
              "  </div>\n",
              "  "
            ]
          },
          "metadata": {},
          "execution_count": 41
        }
      ],
      "source": [
        "music_prepared.head()"
      ]
    },
    {
      "cell_type": "code",
      "execution_count": null,
      "metadata": {
        "scrolled": true,
        "id": "RRXDn8effvmX",
        "outputId": "6b6b3584-730e-42c4-e572-43d1b6e22e99",
        "colab": {
          "base_uri": "https://localhost:8080/",
          "height": 35
        }
      },
      "outputs": [
        {
          "output_type": "display_data",
          "data": {
            "text/plain": [
              "<Figure size 1080x1296 with 0 Axes>"
            ]
          },
          "metadata": {}
        }
      ],
      "source": [
        "music_cont = music_prepared.select_dtypes([int,float]) \n",
        "\n",
        "fig = plt.figure(figsize=(15, 18)) \n",
        "for i,columns in enumerate(music_cont.columns, 1): \n",
        "    ax = plt.subplot(5,3,i)\n",
        "    sns.kdeplot(x=music_cont[columns])\n",
        "    ax.set_xlabel(None)\n",
        "    ax.set_title(f'Distribution of {columns}')\n",
        "    plt.tight_layout(w_pad=3)\n",
        "plt.show()"
      ]
    },
    {
      "cell_type": "code",
      "execution_count": null,
      "metadata": {
        "id": "sCNplaEufvmY"
      },
      "outputs": [],
      "source": [
        "for i in music_cont.columns:\n",
        "  print(f'Skewness in {i} =',music_cont[i].skew())"
      ]
    },
    {
      "cell_type": "markdown",
      "metadata": {
        "id": "ucE0C-bJ1hxa"
      },
      "source": [
        "# **Build machine learning model**"
      ]
    },
    {
      "cell_type": "code",
      "execution_count": null,
      "metadata": {
        "id": "VQvti_O7u9Wp"
      },
      "outputs": [],
      "source": [
        "y = y.astype(\"int\")\n",
        "X_train, X_val, y_train, y_val = train_test_split(music_prepared, y, \n",
        "                                                  test_size=0.3, \n",
        "                                                  random_state= 42)"
      ]
    },
    {
      "cell_type": "code",
      "source": [
        "from sklearn.linear_model import LogisticRegression\n",
        "from sklearn.tree import DecisionTreeClassifier\n",
        "from sklearn.svm import SVC\n",
        "from sklearn.ensemble import RandomForestClassifier\n",
        "\n",
        "train_accuracy=[]\n",
        "val_accuracy=[]\n",
        "classifiers=['Logistic Regression','SVM','Decision Tree', 'Random forest']\n",
        "\n",
        "models=[SVC(kernel=\"poly\", degree=3, coef0=1, C=5),\n",
        "        LogisticRegression(multi_class=\"multinomial\",solver='sag',max_iter=1000,\n",
        "                           tol=0.0001,C = 100),\n",
        "        DecisionTreeClassifier(), \n",
        "        RandomForestClassifier(n_estimators=200,random_state=42)]\n",
        "\n",
        "for i in models:\n",
        "    model = i\n",
        "    model.fit(X_train , y_train)\n",
        "    T_pred=model.predict(X_train)\n",
        "    train_accuracy.append(accuracy_score(T_pred,y_train))\n",
        "\n",
        "    V_pred=model.predict(X_val)\n",
        "    val_accuracy.append(accuracy_score(V_pred,y_val))\n",
        "    \n",
        "models_dataframe1 = pd.DataFrame({\"Train Accuracy\" :train_accuracy,\n",
        "                                  \"Val Accuracy\" :val_accuracy} ,index=classifiers) "
      ],
      "metadata": {
        "id": "qg1bBWGU1o-f",
        "colab": {
          "base_uri": "https://localhost:8080/"
        },
        "outputId": "c440220d-f9b1-4b3e-9af8-b9e737046a20"
      },
      "execution_count": null,
      "outputs": [
        {
          "output_type": "stream",
          "name": "stderr",
          "text": [
            "/usr/local/lib/python3.8/dist-packages/sklearn/linear_model/_sag.py:352: ConvergenceWarning: The max_iter was reached which means the coef_ did not converge\n",
            "  warnings.warn(\n"
          ]
        }
      ]
    },
    {
      "cell_type": "code",
      "source": [
        "models_dataframe1"
      ],
      "metadata": {
        "id": "wftGkfBU1riA",
        "colab": {
          "base_uri": "https://localhost:8080/",
          "height": 175
        },
        "outputId": "52fe64c7-2fff-425d-fe3c-4a5cd5be5f64"
      },
      "execution_count": null,
      "outputs": [
        {
          "output_type": "execute_result",
          "data": {
            "text/plain": [
              "                     Train Accuracy  Val Accuracy\n",
              "Logistic Regression        0.500000      0.487358\n",
              "SVM                        0.495028      0.495941\n",
              "Decision Tree              0.940931      0.376479\n",
              "Random forest              0.940931      0.514730"
            ],
            "text/html": [
              "\n",
              "  <div id=\"df-9c6d86c4-5201-444c-be30-197fdf2cfdb0\">\n",
              "    <div class=\"colab-df-container\">\n",
              "      <div>\n",
              "<style scoped>\n",
              "    .dataframe tbody tr th:only-of-type {\n",
              "        vertical-align: middle;\n",
              "    }\n",
              "\n",
              "    .dataframe tbody tr th {\n",
              "        vertical-align: top;\n",
              "    }\n",
              "\n",
              "    .dataframe thead th {\n",
              "        text-align: right;\n",
              "    }\n",
              "</style>\n",
              "<table border=\"1\" class=\"dataframe\">\n",
              "  <thead>\n",
              "    <tr style=\"text-align: right;\">\n",
              "      <th></th>\n",
              "      <th>Train Accuracy</th>\n",
              "      <th>Val Accuracy</th>\n",
              "    </tr>\n",
              "  </thead>\n",
              "  <tbody>\n",
              "    <tr>\n",
              "      <th>Logistic Regression</th>\n",
              "      <td>0.500000</td>\n",
              "      <td>0.487358</td>\n",
              "    </tr>\n",
              "    <tr>\n",
              "      <th>SVM</th>\n",
              "      <td>0.495028</td>\n",
              "      <td>0.495941</td>\n",
              "    </tr>\n",
              "    <tr>\n",
              "      <th>Decision Tree</th>\n",
              "      <td>0.940931</td>\n",
              "      <td>0.376479</td>\n",
              "    </tr>\n",
              "    <tr>\n",
              "      <th>Random forest</th>\n",
              "      <td>0.940931</td>\n",
              "      <td>0.514730</td>\n",
              "    </tr>\n",
              "  </tbody>\n",
              "</table>\n",
              "</div>\n",
              "      <button class=\"colab-df-convert\" onclick=\"convertToInteractive('df-9c6d86c4-5201-444c-be30-197fdf2cfdb0')\"\n",
              "              title=\"Convert this dataframe to an interactive table.\"\n",
              "              style=\"display:none;\">\n",
              "        \n",
              "  <svg xmlns=\"http://www.w3.org/2000/svg\" height=\"24px\"viewBox=\"0 0 24 24\"\n",
              "       width=\"24px\">\n",
              "    <path d=\"M0 0h24v24H0V0z\" fill=\"none\"/>\n",
              "    <path d=\"M18.56 5.44l.94 2.06.94-2.06 2.06-.94-2.06-.94-.94-2.06-.94 2.06-2.06.94zm-11 1L8.5 8.5l.94-2.06 2.06-.94-2.06-.94L8.5 2.5l-.94 2.06-2.06.94zm10 10l.94 2.06.94-2.06 2.06-.94-2.06-.94-.94-2.06-.94 2.06-2.06.94z\"/><path d=\"M17.41 7.96l-1.37-1.37c-.4-.4-.92-.59-1.43-.59-.52 0-1.04.2-1.43.59L10.3 9.45l-7.72 7.72c-.78.78-.78 2.05 0 2.83L4 21.41c.39.39.9.59 1.41.59.51 0 1.02-.2 1.41-.59l7.78-7.78 2.81-2.81c.8-.78.8-2.07 0-2.86zM5.41 20L4 18.59l7.72-7.72 1.47 1.35L5.41 20z\"/>\n",
              "  </svg>\n",
              "      </button>\n",
              "      \n",
              "  <style>\n",
              "    .colab-df-container {\n",
              "      display:flex;\n",
              "      flex-wrap:wrap;\n",
              "      gap: 12px;\n",
              "    }\n",
              "\n",
              "    .colab-df-convert {\n",
              "      background-color: #E8F0FE;\n",
              "      border: none;\n",
              "      border-radius: 50%;\n",
              "      cursor: pointer;\n",
              "      display: none;\n",
              "      fill: #1967D2;\n",
              "      height: 32px;\n",
              "      padding: 0 0 0 0;\n",
              "      width: 32px;\n",
              "    }\n",
              "\n",
              "    .colab-df-convert:hover {\n",
              "      background-color: #E2EBFA;\n",
              "      box-shadow: 0px 1px 2px rgba(60, 64, 67, 0.3), 0px 1px 3px 1px rgba(60, 64, 67, 0.15);\n",
              "      fill: #174EA6;\n",
              "    }\n",
              "\n",
              "    [theme=dark] .colab-df-convert {\n",
              "      background-color: #3B4455;\n",
              "      fill: #D2E3FC;\n",
              "    }\n",
              "\n",
              "    [theme=dark] .colab-df-convert:hover {\n",
              "      background-color: #434B5C;\n",
              "      box-shadow: 0px 1px 3px 1px rgba(0, 0, 0, 0.15);\n",
              "      filter: drop-shadow(0px 1px 2px rgba(0, 0, 0, 0.3));\n",
              "      fill: #FFFFFF;\n",
              "    }\n",
              "  </style>\n",
              "\n",
              "      <script>\n",
              "        const buttonEl =\n",
              "          document.querySelector('#df-9c6d86c4-5201-444c-be30-197fdf2cfdb0 button.colab-df-convert');\n",
              "        buttonEl.style.display =\n",
              "          google.colab.kernel.accessAllowed ? 'block' : 'none';\n",
              "\n",
              "        async function convertToInteractive(key) {\n",
              "          const element = document.querySelector('#df-9c6d86c4-5201-444c-be30-197fdf2cfdb0');\n",
              "          const dataTable =\n",
              "            await google.colab.kernel.invokeFunction('convertToInteractive',\n",
              "                                                     [key], {});\n",
              "          if (!dataTable) return;\n",
              "\n",
              "          const docLinkHtml = 'Like what you see? Visit the ' +\n",
              "            '<a target=\"_blank\" href=https://colab.research.google.com/notebooks/data_table.ipynb>data table notebook</a>'\n",
              "            + ' to learn more about interactive tables.';\n",
              "          element.innerHTML = '';\n",
              "          dataTable['output_type'] = 'display_data';\n",
              "          await google.colab.output.renderOutput(dataTable, element);\n",
              "          const docLink = document.createElement('div');\n",
              "          docLink.innerHTML = docLinkHtml;\n",
              "          element.appendChild(docLink);\n",
              "        }\n",
              "      </script>\n",
              "    </div>\n",
              "  </div>\n",
              "  "
            ]
          },
          "metadata": {},
          "execution_count": 46
        }
      ]
    },
    {
      "cell_type": "code",
      "execution_count": null,
      "metadata": {
        "id": "h2aeac_efvmd",
        "outputId": "9ae28089-0c40-4cc4-b8f1-4075e6f706f9",
        "colab": {
          "base_uri": "https://localhost:8080/"
        }
      },
      "outputs": [
        {
          "output_type": "stream",
          "name": "stderr",
          "text": [
            "/usr/local/lib/python3.8/dist-packages/sklearn/linear_model/_sag.py:352: ConvergenceWarning: The max_iter was reached which means the coef_ did not converge\n",
            "  warnings.warn(\n"
          ]
        }
      ],
      "source": [
        "from sklearn.linear_model import LogisticRegression\n",
        "from sklearn.tree import DecisionTreeClassifier\n",
        "from sklearn.svm import SVC\n",
        "from sklearn.ensemble import RandomForestClassifier\n",
        "\n",
        "accuracy=[]\n",
        "classifiers=['Logistic Regression','SVM','Decision Tree', 'Random forest']\n",
        "\n",
        "models=[SVC(kernel=\"poly\", degree=3, coef0=1, C=5),\n",
        "        LogisticRegression(multi_class=\"multinomial\",solver='sag',max_iter=1000,tol=0.0001,C = 100),\n",
        "        DecisionTreeClassifier(), \n",
        "        RandomForestClassifier(n_estimators=100,random_state=42)]\n",
        "\n",
        "for i in models:\n",
        "    model = i\n",
        "    model.fit(music_prepared , y)\n",
        "    predition = model.predict(music_prepared)\n",
        "    accuracy.append(accuracy_score(predition,y))\n",
        "\n",
        "    \n",
        "models_dataframe2 = pd.DataFrame({\"Accuracy\" :accuracy} ,index=classifiers) "
      ]
    },
    {
      "cell_type": "code",
      "execution_count": null,
      "metadata": {
        "colab": {
          "base_uri": "https://localhost:8080/",
          "height": 175
        },
        "id": "jgJqer2JOPog",
        "outputId": "a2a9d127-ae4e-40c1-bffd-621f273a826d"
      },
      "outputs": [
        {
          "output_type": "execute_result",
          "data": {
            "text/plain": [
              "                     Accuracy\n",
              "Logistic Regression  0.498712\n",
              "SVM                  0.498016\n",
              "Decision Tree        0.918494\n",
              "Random forest        0.918494"
            ],
            "text/html": [
              "\n",
              "  <div id=\"df-16152206-d6b0-4d2a-8104-2b9b910e205b\">\n",
              "    <div class=\"colab-df-container\">\n",
              "      <div>\n",
              "<style scoped>\n",
              "    .dataframe tbody tr th:only-of-type {\n",
              "        vertical-align: middle;\n",
              "    }\n",
              "\n",
              "    .dataframe tbody tr th {\n",
              "        vertical-align: top;\n",
              "    }\n",
              "\n",
              "    .dataframe thead th {\n",
              "        text-align: right;\n",
              "    }\n",
              "</style>\n",
              "<table border=\"1\" class=\"dataframe\">\n",
              "  <thead>\n",
              "    <tr style=\"text-align: right;\">\n",
              "      <th></th>\n",
              "      <th>Accuracy</th>\n",
              "    </tr>\n",
              "  </thead>\n",
              "  <tbody>\n",
              "    <tr>\n",
              "      <th>Logistic Regression</th>\n",
              "      <td>0.498712</td>\n",
              "    </tr>\n",
              "    <tr>\n",
              "      <th>SVM</th>\n",
              "      <td>0.498016</td>\n",
              "    </tr>\n",
              "    <tr>\n",
              "      <th>Decision Tree</th>\n",
              "      <td>0.918494</td>\n",
              "    </tr>\n",
              "    <tr>\n",
              "      <th>Random forest</th>\n",
              "      <td>0.918494</td>\n",
              "    </tr>\n",
              "  </tbody>\n",
              "</table>\n",
              "</div>\n",
              "      <button class=\"colab-df-convert\" onclick=\"convertToInteractive('df-16152206-d6b0-4d2a-8104-2b9b910e205b')\"\n",
              "              title=\"Convert this dataframe to an interactive table.\"\n",
              "              style=\"display:none;\">\n",
              "        \n",
              "  <svg xmlns=\"http://www.w3.org/2000/svg\" height=\"24px\"viewBox=\"0 0 24 24\"\n",
              "       width=\"24px\">\n",
              "    <path d=\"M0 0h24v24H0V0z\" fill=\"none\"/>\n",
              "    <path d=\"M18.56 5.44l.94 2.06.94-2.06 2.06-.94-2.06-.94-.94-2.06-.94 2.06-2.06.94zm-11 1L8.5 8.5l.94-2.06 2.06-.94-2.06-.94L8.5 2.5l-.94 2.06-2.06.94zm10 10l.94 2.06.94-2.06 2.06-.94-2.06-.94-.94-2.06-.94 2.06-2.06.94z\"/><path d=\"M17.41 7.96l-1.37-1.37c-.4-.4-.92-.59-1.43-.59-.52 0-1.04.2-1.43.59L10.3 9.45l-7.72 7.72c-.78.78-.78 2.05 0 2.83L4 21.41c.39.39.9.59 1.41.59.51 0 1.02-.2 1.41-.59l7.78-7.78 2.81-2.81c.8-.78.8-2.07 0-2.86zM5.41 20L4 18.59l7.72-7.72 1.47 1.35L5.41 20z\"/>\n",
              "  </svg>\n",
              "      </button>\n",
              "      \n",
              "  <style>\n",
              "    .colab-df-container {\n",
              "      display:flex;\n",
              "      flex-wrap:wrap;\n",
              "      gap: 12px;\n",
              "    }\n",
              "\n",
              "    .colab-df-convert {\n",
              "      background-color: #E8F0FE;\n",
              "      border: none;\n",
              "      border-radius: 50%;\n",
              "      cursor: pointer;\n",
              "      display: none;\n",
              "      fill: #1967D2;\n",
              "      height: 32px;\n",
              "      padding: 0 0 0 0;\n",
              "      width: 32px;\n",
              "    }\n",
              "\n",
              "    .colab-df-convert:hover {\n",
              "      background-color: #E2EBFA;\n",
              "      box-shadow: 0px 1px 2px rgba(60, 64, 67, 0.3), 0px 1px 3px 1px rgba(60, 64, 67, 0.15);\n",
              "      fill: #174EA6;\n",
              "    }\n",
              "\n",
              "    [theme=dark] .colab-df-convert {\n",
              "      background-color: #3B4455;\n",
              "      fill: #D2E3FC;\n",
              "    }\n",
              "\n",
              "    [theme=dark] .colab-df-convert:hover {\n",
              "      background-color: #434B5C;\n",
              "      box-shadow: 0px 1px 3px 1px rgba(0, 0, 0, 0.15);\n",
              "      filter: drop-shadow(0px 1px 2px rgba(0, 0, 0, 0.3));\n",
              "      fill: #FFFFFF;\n",
              "    }\n",
              "  </style>\n",
              "\n",
              "      <script>\n",
              "        const buttonEl =\n",
              "          document.querySelector('#df-16152206-d6b0-4d2a-8104-2b9b910e205b button.colab-df-convert');\n",
              "        buttonEl.style.display =\n",
              "          google.colab.kernel.accessAllowed ? 'block' : 'none';\n",
              "\n",
              "        async function convertToInteractive(key) {\n",
              "          const element = document.querySelector('#df-16152206-d6b0-4d2a-8104-2b9b910e205b');\n",
              "          const dataTable =\n",
              "            await google.colab.kernel.invokeFunction('convertToInteractive',\n",
              "                                                     [key], {});\n",
              "          if (!dataTable) return;\n",
              "\n",
              "          const docLinkHtml = 'Like what you see? Visit the ' +\n",
              "            '<a target=\"_blank\" href=https://colab.research.google.com/notebooks/data_table.ipynb>data table notebook</a>'\n",
              "            + ' to learn more about interactive tables.';\n",
              "          element.innerHTML = '';\n",
              "          dataTable['output_type'] = 'display_data';\n",
              "          await google.colab.output.renderOutput(dataTable, element);\n",
              "          const docLink = document.createElement('div');\n",
              "          docLink.innerHTML = docLinkHtml;\n",
              "          element.appendChild(docLink);\n",
              "        }\n",
              "      </script>\n",
              "    </div>\n",
              "  </div>\n",
              "  "
            ]
          },
          "metadata": {},
          "execution_count": 48
        }
      ],
      "source": [
        "models_dataframe2"
      ]
    },
    {
      "cell_type": "markdown",
      "metadata": {
        "id": "ZC80HICNh7pE"
      },
      "source": [
        "# Find accurcy using cross validation score"
      ]
    },
    {
      "cell_type": "code",
      "execution_count": null,
      "metadata": {
        "colab": {
          "base_uri": "https://localhost:8080/",
          "height": 306
        },
        "id": "tuFXrMD-M-iC",
        "outputId": "2477485a-7798-42f8-e520-ee64f6419a5a"
      },
      "outputs": [
        {
          "output_type": "stream",
          "name": "stderr",
          "text": [
            "/usr/local/lib/python3.8/dist-packages/sklearn/linear_model/_sag.py:352: ConvergenceWarning: The max_iter was reached which means the coef_ did not converge\n",
            "  warnings.warn(\n",
            "/usr/local/lib/python3.8/dist-packages/sklearn/linear_model/_sag.py:352: ConvergenceWarning: The max_iter was reached which means the coef_ did not converge\n",
            "  warnings.warn(\n",
            "/usr/local/lib/python3.8/dist-packages/sklearn/linear_model/_sag.py:352: ConvergenceWarning: The max_iter was reached which means the coef_ did not converge\n",
            "  warnings.warn(\n"
          ]
        },
        {
          "output_type": "execute_result",
          "data": {
            "text/plain": [
              "                      CV Mean\n",
              "Random forest        0.509292\n",
              "SVM                  0.492657\n",
              "Logistic Regression  0.381151\n",
              "Decision Tree        0.374539"
            ],
            "text/html": [
              "\n",
              "  <div id=\"df-632ee558-0ebf-468e-8212-e7982ea002de\">\n",
              "    <div class=\"colab-df-container\">\n",
              "      <div>\n",
              "<style scoped>\n",
              "    .dataframe tbody tr th:only-of-type {\n",
              "        vertical-align: middle;\n",
              "    }\n",
              "\n",
              "    .dataframe tbody tr th {\n",
              "        vertical-align: top;\n",
              "    }\n",
              "\n",
              "    .dataframe thead th {\n",
              "        text-align: right;\n",
              "    }\n",
              "</style>\n",
              "<table border=\"1\" class=\"dataframe\">\n",
              "  <thead>\n",
              "    <tr style=\"text-align: right;\">\n",
              "      <th></th>\n",
              "      <th>CV Mean</th>\n",
              "    </tr>\n",
              "  </thead>\n",
              "  <tbody>\n",
              "    <tr>\n",
              "      <th>Random forest</th>\n",
              "      <td>0.509292</td>\n",
              "    </tr>\n",
              "    <tr>\n",
              "      <th>SVM</th>\n",
              "      <td>0.492657</td>\n",
              "    </tr>\n",
              "    <tr>\n",
              "      <th>Logistic Regression</th>\n",
              "      <td>0.381151</td>\n",
              "    </tr>\n",
              "    <tr>\n",
              "      <th>Decision Tree</th>\n",
              "      <td>0.374539</td>\n",
              "    </tr>\n",
              "  </tbody>\n",
              "</table>\n",
              "</div>\n",
              "      <button class=\"colab-df-convert\" onclick=\"convertToInteractive('df-632ee558-0ebf-468e-8212-e7982ea002de')\"\n",
              "              title=\"Convert this dataframe to an interactive table.\"\n",
              "              style=\"display:none;\">\n",
              "        \n",
              "  <svg xmlns=\"http://www.w3.org/2000/svg\" height=\"24px\"viewBox=\"0 0 24 24\"\n",
              "       width=\"24px\">\n",
              "    <path d=\"M0 0h24v24H0V0z\" fill=\"none\"/>\n",
              "    <path d=\"M18.56 5.44l.94 2.06.94-2.06 2.06-.94-2.06-.94-.94-2.06-.94 2.06-2.06.94zm-11 1L8.5 8.5l.94-2.06 2.06-.94-2.06-.94L8.5 2.5l-.94 2.06-2.06.94zm10 10l.94 2.06.94-2.06 2.06-.94-2.06-.94-.94-2.06-.94 2.06-2.06.94z\"/><path d=\"M17.41 7.96l-1.37-1.37c-.4-.4-.92-.59-1.43-.59-.52 0-1.04.2-1.43.59L10.3 9.45l-7.72 7.72c-.78.78-.78 2.05 0 2.83L4 21.41c.39.39.9.59 1.41.59.51 0 1.02-.2 1.41-.59l7.78-7.78 2.81-2.81c.8-.78.8-2.07 0-2.86zM5.41 20L4 18.59l7.72-7.72 1.47 1.35L5.41 20z\"/>\n",
              "  </svg>\n",
              "      </button>\n",
              "      \n",
              "  <style>\n",
              "    .colab-df-container {\n",
              "      display:flex;\n",
              "      flex-wrap:wrap;\n",
              "      gap: 12px;\n",
              "    }\n",
              "\n",
              "    .colab-df-convert {\n",
              "      background-color: #E8F0FE;\n",
              "      border: none;\n",
              "      border-radius: 50%;\n",
              "      cursor: pointer;\n",
              "      display: none;\n",
              "      fill: #1967D2;\n",
              "      height: 32px;\n",
              "      padding: 0 0 0 0;\n",
              "      width: 32px;\n",
              "    }\n",
              "\n",
              "    .colab-df-convert:hover {\n",
              "      background-color: #E2EBFA;\n",
              "      box-shadow: 0px 1px 2px rgba(60, 64, 67, 0.3), 0px 1px 3px 1px rgba(60, 64, 67, 0.15);\n",
              "      fill: #174EA6;\n",
              "    }\n",
              "\n",
              "    [theme=dark] .colab-df-convert {\n",
              "      background-color: #3B4455;\n",
              "      fill: #D2E3FC;\n",
              "    }\n",
              "\n",
              "    [theme=dark] .colab-df-convert:hover {\n",
              "      background-color: #434B5C;\n",
              "      box-shadow: 0px 1px 3px 1px rgba(0, 0, 0, 0.15);\n",
              "      filter: drop-shadow(0px 1px 2px rgba(0, 0, 0, 0.3));\n",
              "      fill: #FFFFFF;\n",
              "    }\n",
              "  </style>\n",
              "\n",
              "      <script>\n",
              "        const buttonEl =\n",
              "          document.querySelector('#df-632ee558-0ebf-468e-8212-e7982ea002de button.colab-df-convert');\n",
              "        buttonEl.style.display =\n",
              "          google.colab.kernel.accessAllowed ? 'block' : 'none';\n",
              "\n",
              "        async function convertToInteractive(key) {\n",
              "          const element = document.querySelector('#df-632ee558-0ebf-468e-8212-e7982ea002de');\n",
              "          const dataTable =\n",
              "            await google.colab.kernel.invokeFunction('convertToInteractive',\n",
              "                                                     [key], {});\n",
              "          if (!dataTable) return;\n",
              "\n",
              "          const docLinkHtml = 'Like what you see? Visit the ' +\n",
              "            '<a target=\"_blank\" href=https://colab.research.google.com/notebooks/data_table.ipynb>data table notebook</a>'\n",
              "            + ' to learn more about interactive tables.';\n",
              "          element.innerHTML = '';\n",
              "          dataTable['output_type'] = 'display_data';\n",
              "          await google.colab.output.renderOutput(dataTable, element);\n",
              "          const docLink = document.createElement('div');\n",
              "          docLink.innerHTML = docLinkHtml;\n",
              "          element.appendChild(docLink);\n",
              "        }\n",
              "      </script>\n",
              "    </div>\n",
              "  </div>\n",
              "  "
            ]
          },
          "metadata": {},
          "execution_count": 49
        }
      ],
      "source": [
        "result=[]\n",
        "\n",
        "classifiers=['Logistic Regression','SVM','Decision Tree', 'Random forest']\n",
        "models=[SVC(random_state=42,probability=True,kernel='rbf'),\n",
        "        LogisticRegression(multi_class=\"multinomial\",solver='sag',max_iter=1000,\n",
        "                           tol=0.0001,C = 100),\n",
        "        DecisionTreeClassifier(), \n",
        "        RandomForestClassifier(n_estimators=100,random_state=42)]\n",
        "\n",
        "for model in models:\n",
        "    cv_result = cross_val_score(model, music_prepared, y, cv=3, \n",
        "                                scoring=\"accuracy\")\n",
        "    cv_result=cv_result\n",
        "    result.append(cv_result.mean())\n",
        "\n",
        "cv_models_dataframe=pd.DataFrame(result, index=classifiers)   \n",
        "cv_models_dataframe.columns=['CV Mean']    \n",
        "cv_models_dataframe\n",
        "cv_models_dataframe.sort_values(['CV Mean'], ascending=[0])"
      ]
    },
    {
      "cell_type": "markdown",
      "metadata": {
        "id": "JxYMb8nIQm5t"
      },
      "source": [
        "# Voting"
      ]
    },
    {
      "cell_type": "code",
      "execution_count": null,
      "metadata": {
        "colab": {
          "base_uri": "https://localhost:8080/"
        },
        "id": "ece2WnRPQbPX",
        "outputId": "2ebacc50-5115-4258-ec63-8508f9b565b4"
      },
      "outputs": [
        {
          "output_type": "stream",
          "name": "stderr",
          "text": [
            "/usr/local/lib/python3.8/dist-packages/sklearn/linear_model/_sag.py:352: ConvergenceWarning: The max_iter was reached which means the coef_ did not converge\n",
            "  warnings.warn(\n"
          ]
        }
      ],
      "source": [
        "from sklearn.ensemble import VotingClassifier\n",
        "\n",
        "rf_clf= RandomForestClassifier(n_estimators=100,random_state=42)\n",
        "svm_clf =SVC(random_state=42,probability=True,kernel='rbf')\n",
        "lr = LogisticRegression(multi_class=\"multinomial\",solver='sag',\n",
        "                        max_iter=1000,tol=0.0001,C = 100)\n",
        "ensemble_model = VotingClassifier(\n",
        "    estimators=[('Random forest', rf_clf), ('SVM', svm_clf),\n",
        "                ('Logistic Regression',lr)], voting='soft')\n",
        "\n",
        "ensemble_model.fit(X_train , y_train)\n",
        "predictEnsemble = ensemble_model.predict(X_val)\n",
        "\n",
        "\n"
      ]
    },
    {
      "cell_type": "code",
      "execution_count": null,
      "metadata": {
        "colab": {
          "base_uri": "https://localhost:8080/"
        },
        "id": "e833eOqtSOJT",
        "outputId": "abab1286-36f9-4402-ddea-77010b1b40d4"
      },
      "outputs": [
        {
          "output_type": "stream",
          "name": "stdout",
          "text": [
            "Accuracy of ensembled model with all the 3 classifiers is: 0.5091626072836929\n"
          ]
        }
      ],
      "source": [
        "print('Accuracy of ensembled model with all the 3 classifiers is:',accuracy_score(y_val, predictEnsemble))"
      ]
    },
    {
      "cell_type": "markdown",
      "metadata": {
        "id": "h9ZUGP4AjdFW"
      },
      "source": [
        "# Bagging and Cross validation"
      ]
    },
    {
      "cell_type": "code",
      "source": [
        "from sklearn.ensemble import BaggingClassifier\n",
        "\n",
        "bagging_result =[]\n",
        "\n",
        "rf_clf= RandomForestClassifier(n_estimators=100,random_state=42)\n",
        "svm_clf =SVC(random_state=42,probability=True,kernel='rbf')\n",
        "lr = LogisticRegression(multi_class=\"multinomial\",solver='sag',max_iter=1000,\n",
        "                        tol=0.0001,C = 100)\n",
        "dt_clf =DecisionTreeClassifier()\n",
        "\n",
        "clf_array = [rf_clf,svm_clf, lr,dt_clf]\n",
        "\n",
        "print(\"After Bagging: \")\n",
        "\n",
        "for clf in clf_array:\n",
        "    bagging_clf = BaggingClassifier(clf,max_samples=0.4, max_features=10, \n",
        "                                    random_state=24,n_jobs=-1)\n",
        "    bagging_scores = cross_val_score(bagging_clf, music_prepared, y, cv=3, \n",
        "                                     scoring=\"accuracy\")\n",
        "    bagging_scores= bagging_scores\n",
        "    bagging_result.append(bagging_scores.mean())\n",
        "\n",
        "cv_models_dataframe=pd.DataFrame(bagging_result, index=classifiers)   \n",
        "cv_models_dataframe.columns=['CV Mean']    \n",
        "cv_models_dataframe\n",
        "cv_models_dataframe.sort_values(['CV Mean'], ascending=[0])"
      ],
      "metadata": {
        "colab": {
          "base_uri": "https://localhost:8080/",
          "height": 193
        },
        "id": "FfTVExG4yuDY",
        "outputId": "8f3255cb-70c8-49ad-bb35-a6355918dbf0"
      },
      "execution_count": null,
      "outputs": [
        {
          "output_type": "stream",
          "name": "stdout",
          "text": [
            "After Bagging: \n"
          ]
        },
        {
          "output_type": "execute_result",
          "data": {
            "text/plain": [
              "                      CV Mean\n",
              "Logistic Regression  0.518271\n",
              "Decision Tree        0.482077\n",
              "SVM                  0.471984\n",
              "Random forest        0.449154"
            ],
            "text/html": [
              "\n",
              "  <div id=\"df-7d522681-3273-4ca9-a205-9ff98f953d45\">\n",
              "    <div class=\"colab-df-container\">\n",
              "      <div>\n",
              "<style scoped>\n",
              "    .dataframe tbody tr th:only-of-type {\n",
              "        vertical-align: middle;\n",
              "    }\n",
              "\n",
              "    .dataframe tbody tr th {\n",
              "        vertical-align: top;\n",
              "    }\n",
              "\n",
              "    .dataframe thead th {\n",
              "        text-align: right;\n",
              "    }\n",
              "</style>\n",
              "<table border=\"1\" class=\"dataframe\">\n",
              "  <thead>\n",
              "    <tr style=\"text-align: right;\">\n",
              "      <th></th>\n",
              "      <th>CV Mean</th>\n",
              "    </tr>\n",
              "  </thead>\n",
              "  <tbody>\n",
              "    <tr>\n",
              "      <th>Logistic Regression</th>\n",
              "      <td>0.518271</td>\n",
              "    </tr>\n",
              "    <tr>\n",
              "      <th>Decision Tree</th>\n",
              "      <td>0.482077</td>\n",
              "    </tr>\n",
              "    <tr>\n",
              "      <th>SVM</th>\n",
              "      <td>0.471984</td>\n",
              "    </tr>\n",
              "    <tr>\n",
              "      <th>Random forest</th>\n",
              "      <td>0.449154</td>\n",
              "    </tr>\n",
              "  </tbody>\n",
              "</table>\n",
              "</div>\n",
              "      <button class=\"colab-df-convert\" onclick=\"convertToInteractive('df-7d522681-3273-4ca9-a205-9ff98f953d45')\"\n",
              "              title=\"Convert this dataframe to an interactive table.\"\n",
              "              style=\"display:none;\">\n",
              "        \n",
              "  <svg xmlns=\"http://www.w3.org/2000/svg\" height=\"24px\"viewBox=\"0 0 24 24\"\n",
              "       width=\"24px\">\n",
              "    <path d=\"M0 0h24v24H0V0z\" fill=\"none\"/>\n",
              "    <path d=\"M18.56 5.44l.94 2.06.94-2.06 2.06-.94-2.06-.94-.94-2.06-.94 2.06-2.06.94zm-11 1L8.5 8.5l.94-2.06 2.06-.94-2.06-.94L8.5 2.5l-.94 2.06-2.06.94zm10 10l.94 2.06.94-2.06 2.06-.94-2.06-.94-.94-2.06-.94 2.06-2.06.94z\"/><path d=\"M17.41 7.96l-1.37-1.37c-.4-.4-.92-.59-1.43-.59-.52 0-1.04.2-1.43.59L10.3 9.45l-7.72 7.72c-.78.78-.78 2.05 0 2.83L4 21.41c.39.39.9.59 1.41.59.51 0 1.02-.2 1.41-.59l7.78-7.78 2.81-2.81c.8-.78.8-2.07 0-2.86zM5.41 20L4 18.59l7.72-7.72 1.47 1.35L5.41 20z\"/>\n",
              "  </svg>\n",
              "      </button>\n",
              "      \n",
              "  <style>\n",
              "    .colab-df-container {\n",
              "      display:flex;\n",
              "      flex-wrap:wrap;\n",
              "      gap: 12px;\n",
              "    }\n",
              "\n",
              "    .colab-df-convert {\n",
              "      background-color: #E8F0FE;\n",
              "      border: none;\n",
              "      border-radius: 50%;\n",
              "      cursor: pointer;\n",
              "      display: none;\n",
              "      fill: #1967D2;\n",
              "      height: 32px;\n",
              "      padding: 0 0 0 0;\n",
              "      width: 32px;\n",
              "    }\n",
              "\n",
              "    .colab-df-convert:hover {\n",
              "      background-color: #E2EBFA;\n",
              "      box-shadow: 0px 1px 2px rgba(60, 64, 67, 0.3), 0px 1px 3px 1px rgba(60, 64, 67, 0.15);\n",
              "      fill: #174EA6;\n",
              "    }\n",
              "\n",
              "    [theme=dark] .colab-df-convert {\n",
              "      background-color: #3B4455;\n",
              "      fill: #D2E3FC;\n",
              "    }\n",
              "\n",
              "    [theme=dark] .colab-df-convert:hover {\n",
              "      background-color: #434B5C;\n",
              "      box-shadow: 0px 1px 3px 1px rgba(0, 0, 0, 0.15);\n",
              "      filter: drop-shadow(0px 1px 2px rgba(0, 0, 0, 0.3));\n",
              "      fill: #FFFFFF;\n",
              "    }\n",
              "  </style>\n",
              "\n",
              "      <script>\n",
              "        const buttonEl =\n",
              "          document.querySelector('#df-7d522681-3273-4ca9-a205-9ff98f953d45 button.colab-df-convert');\n",
              "        buttonEl.style.display =\n",
              "          google.colab.kernel.accessAllowed ? 'block' : 'none';\n",
              "\n",
              "        async function convertToInteractive(key) {\n",
              "          const element = document.querySelector('#df-7d522681-3273-4ca9-a205-9ff98f953d45');\n",
              "          const dataTable =\n",
              "            await google.colab.kernel.invokeFunction('convertToInteractive',\n",
              "                                                     [key], {});\n",
              "          if (!dataTable) return;\n",
              "\n",
              "          const docLinkHtml = 'Like what you see? Visit the ' +\n",
              "            '<a target=\"_blank\" href=https://colab.research.google.com/notebooks/data_table.ipynb>data table notebook</a>'\n",
              "            + ' to learn more about interactive tables.';\n",
              "          element.innerHTML = '';\n",
              "          dataTable['output_type'] = 'display_data';\n",
              "          await google.colab.output.renderOutput(dataTable, element);\n",
              "          const docLink = document.createElement('div');\n",
              "          docLink.innerHTML = docLinkHtml;\n",
              "          element.appendChild(docLink);\n",
              "        }\n",
              "      </script>\n",
              "    </div>\n",
              "  </div>\n",
              "  "
            ]
          },
          "metadata": {},
          "execution_count": 52
        }
      ]
    },
    {
      "cell_type": "markdown",
      "metadata": {
        "id": "PYzx3PXbqviI"
      },
      "source": [
        "# Voting after Bagging"
      ]
    },
    {
      "cell_type": "code",
      "execution_count": null,
      "metadata": {
        "colab": {
          "base_uri": "https://localhost:8080/"
        },
        "id": "QqTB4zaSroU-",
        "outputId": "1d36fd5c-ae10-45cd-ff5b-bb7f06246a1a"
      },
      "outputs": [
        {
          "output_type": "stream",
          "name": "stderr",
          "text": [
            "/usr/local/lib/python3.8/dist-packages/sklearn/linear_model/_sag.py:352: ConvergenceWarning: The max_iter was reached which means the coef_ did not converge\n",
            "  warnings.warn(\n"
          ]
        },
        {
          "output_type": "stream",
          "name": "stdout",
          "text": [
            "Accuracy of ensembled model with all the 3 Bagging classifiers is: 0.5091626072836929\n"
          ]
        }
      ],
      "source": [
        "bagging_model = VotingClassifier(\n",
        "    estimators=[('Random forest', rf_clf), ('SVM', svm_clf),\n",
        "                ('Logistic Regression',lr)], voting='soft')\n",
        "\n",
        "bagging_model.fit(X_train,y_train)\n",
        "bag_pred = bagging_model.predict(X_val)\n",
        "\n",
        "print('Accuracy of ensembled model with all the 3 Bagging classifiers is:', \n",
        "      accuracy_score(y_val, bag_pred))\n"
      ]
    },
    {
      "cell_type": "markdown",
      "metadata": {
        "id": "6-rJJeXhr1ps"
      },
      "source": [
        "## **Error Analysis**"
      ]
    },
    {
      "cell_type": "code",
      "execution_count": null,
      "metadata": {
        "id": "-SFBmf67fvmn",
        "outputId": "2689672c-cea2-4619-e2cd-045c1d57d5d1",
        "colab": {
          "base_uri": "https://localhost:8080/"
        }
      },
      "outputs": [
        {
          "output_type": "execute_result",
          "data": {
            "text/plain": [
              "RandomForestClassifier(n_estimators=1000, random_state=42)"
            ]
          },
          "metadata": {},
          "execution_count": 52
        }
      ],
      "source": [
        "RF_Cls = RandomForestClassifier(n_estimators=1000,random_state=42)\n",
        "RF_Cls.fit (X_train,y_train)"
      ]
    },
    {
      "cell_type": "code",
      "execution_count": null,
      "metadata": {
        "id": "f8v4x-LQfvmo"
      },
      "outputs": [],
      "source": [
        "predictions = RF_Cls.predict(X_val)"
      ]
    },
    {
      "cell_type": "code",
      "execution_count": null,
      "metadata": {
        "id": "7KHWOMwcXiQb",
        "outputId": "8769eca5-37ba-449d-8da9-97e650e9719c",
        "colab": {
          "base_uri": "https://localhost:8080/"
        }
      },
      "outputs": [
        {
          "output_type": "execute_result",
          "data": {
            "text/plain": [
              "array([[128,   0,   0,   5,   8,   0,   0,   2,   0,   9,   2],\n",
              "       [  0,   6,   5,   0,   0,  17, 125,   0,  10,  21, 140],\n",
              "       [  0,   0,  96,   0,   0,   7,  22,   0,   1,  39, 141],\n",
              "       [ 19,   0,   0,  68,   3,   0,   0,   4,   0,   1,   0],\n",
              "       [ 28,   0,   0,   2,  61,   0,   0,   1,   0,   6,   2],\n",
              "       [  0,   1,   2,   0,   0, 243,  24,   0,   0,  57,  29],\n",
              "       [  0,  80,  19,   0,   0,  24, 185,   0,  18,  55, 244],\n",
              "       [  4,   0,   0,   2,   0,   0,   0, 140,   0,   0,   0],\n",
              "       [  0,   0,   0,   0,   0,   0,  20,   0, 205,   5, 203],\n",
              "       [ 13,   5,  10,   3,  10,  57,  59,   1,   1, 315, 134],\n",
              "       [  4,  35,  27,   1,  13,  15, 100,   0, 104, 104, 761]])"
            ]
          },
          "metadata": {},
          "execution_count": 54
        }
      ],
      "source": [
        "cm = confusion_matrix(y_val,predictions)\n",
        "cm"
      ]
    },
    {
      "cell_type": "code",
      "execution_count": null,
      "metadata": {
        "id": "Lo4CxGtJX72V",
        "scrolled": false,
        "outputId": "501578cb-caaf-44c2-e058-ab4afb028e98",
        "colab": {
          "base_uri": "https://localhost:8080/",
          "height": 503
        }
      },
      "outputs": [
        {
          "output_type": "execute_result",
          "data": {
            "text/plain": [
              "<matplotlib.axes._subplots.AxesSubplot at 0x7f3a06c28a60>"
            ]
          },
          "metadata": {},
          "execution_count": 55
        },
        {
          "output_type": "display_data",
          "data": {
            "text/plain": [
              "<Figure size 720x576 with 2 Axes>"
            ],
            "image/png": "[encoded data removed]"
          },
          "metadata": {}
        }
      ],
      "source": [
        "plt.figure(figsize=(10, 8))\n",
        "plt.rc('font', size=10)\n",
        "sns.heatmap(cm,annot = True,cmap=\"YlGnBu\",fmt=\".0f\")"
      ]
    },
    {
      "cell_type": "code",
      "execution_count": null,
      "metadata": {
        "id": "zdarbF9yfvmp",
        "outputId": "e3113c4b-3b54-4d83-d888-3f916fdad00f",
        "colab": {
          "base_uri": "https://localhost:8080/"
        }
      },
      "outputs": [
        {
          "output_type": "execute_result",
          "data": {
            "text/plain": [
              "10    1164\n",
              "6      625\n",
              "9      608\n",
              "8      433\n",
              "5      356\n",
              "1      324\n",
              "2      306\n",
              "0      154\n",
              "7      146\n",
              "4      100\n",
              "3       95\n",
              "Name: Class, dtype: int64"
            ]
          },
          "metadata": {},
          "execution_count": 56
        }
      ],
      "source": [
        "y_val.value_counts().sort_values(ascending = False)"
      ]
    },
    {
      "cell_type": "code",
      "execution_count": null,
      "metadata": {
        "id": "NgSygRqUYC3x",
        "scrolled": true,
        "outputId": "cd2821f7-0f7c-496e-c85f-b353d0fedd6f",
        "colab": {
          "base_uri": "https://localhost:8080/"
        }
      },
      "outputs": [
        {
          "output_type": "stream",
          "name": "stdout",
          "text": [
            "              precision    recall  f1-score   support\n",
            "\n",
            "           0       0.65      0.83      0.73       154\n",
            "           1       0.05      0.02      0.03       324\n",
            "           2       0.60      0.31      0.41       306\n",
            "           3       0.84      0.72      0.77        95\n",
            "           4       0.64      0.61      0.63       100\n",
            "           5       0.67      0.68      0.68       356\n",
            "           6       0.35      0.30      0.32       625\n",
            "           7       0.95      0.96      0.95       146\n",
            "           8       0.60      0.47      0.53       433\n",
            "           9       0.51      0.52      0.52       608\n",
            "          10       0.46      0.65      0.54      1164\n",
            "\n",
            "    accuracy                           0.51      4311\n",
            "   macro avg       0.58      0.55      0.55      4311\n",
            "weighted avg       0.50      0.51      0.50      4311\n",
            "\n"
          ]
        }
      ],
      "source": [
        "from sklearn.metrics import classification_report\n",
        "model_report = classification_report(y_val,predictions)\n",
        "print(model_report)"
      ]
    },
    {
      "cell_type": "code",
      "execution_count": null,
      "metadata": {
        "id": "a7ptUPc_fvmq",
        "outputId": "898c06a1-ce3b-45b0-d8df-123925c32941",
        "colab": {
          "base_uri": "https://localhost:8080/"
        }
      },
      "outputs": [
        {
          "output_type": "execute_result",
          "data": {
            "text/plain": [
              "0.5121781489213639"
            ]
          },
          "metadata": {},
          "execution_count": 58
        }
      ],
      "source": [
        "accuracy_score(y_val,predictions)"
      ]
    },
    {
      "cell_type": "code",
      "execution_count": null,
      "metadata": {
        "id": "5DAJ-icafvmq",
        "outputId": "2e4c4da3-fe31-4640-f12e-5e6bb71f34a0",
        "colab": {
          "base_uri": "https://localhost:8080/"
        }
      },
      "outputs": [
        {
          "output_type": "execute_result",
          "data": {
            "text/plain": [
              "(10056, 14)"
            ]
          },
          "metadata": {},
          "execution_count": 59
        }
      ],
      "source": [
        "X_train.shape"
      ]
    },
    {
      "cell_type": "code",
      "execution_count": null,
      "metadata": {
        "scrolled": true,
        "id": "-bVLuFfqfvmr",
        "outputId": "d165593c-7a80-48aa-c36e-5e54fe2423e7",
        "colab": {
          "base_uri": "https://localhost:8080/"
        }
      },
      "outputs": [
        {
          "output_type": "execute_result",
          "data": {
            "text/plain": [
              "GridSearchCV(cv=5, estimator=RandomForestClassifier(random_state=42),\n",
              "             param_grid=[{'max_features': [3, 7, 11, 14],\n",
              "                          'n_estimators': [10, 20, 30, 40]},\n",
              "                         {'bootstrap': [False], 'max_features': [4, 8, 12],\n",
              "                          'n_estimators': [200, 100, 300]}],\n",
              "             return_train_score=True, scoring='neg_mean_squared_error')"
            ]
          },
          "metadata": {},
          "execution_count": 60
        }
      ],
      "source": [
        "from sklearn.model_selection import GridSearchCV\n",
        "\n",
        "param_grid = [\n",
        "    # try 12 (3×4) combinations of hyperparameters\n",
        "    {'n_estimators': [10, 20, 30,40], 'max_features': [3, 7, 11, 14]},\n",
        "    # then try 6 (2×3) combinations with bootstrap set as False\n",
        "    {'bootstrap': [False], 'n_estimators': [200, 100,300], 'max_features': [4, 8, 12]},\n",
        "  ]\n",
        "\n",
        "forest_reg = RandomForestClassifier(random_state=42)\n",
        "\n",
        "grid_search_RF = GridSearchCV(forest_reg, param_grid, cv=5,\n",
        "                           scoring='neg_mean_squared_error',\n",
        "                           return_train_score=True)\n",
        "grid_search_RF.fit(X_train, y_train)"
      ]
    },
    {
      "cell_type": "code",
      "execution_count": null,
      "metadata": {
        "id": "1AceViySfvmr",
        "outputId": "e17faf06-df91-4f02-aa4e-2e1e16ffeeac",
        "colab": {
          "base_uri": "https://localhost:8080/"
        }
      },
      "outputs": [
        {
          "output_type": "execute_result",
          "data": {
            "text/plain": [
              "RandomForestClassifier(bootstrap=False, max_features=4, n_estimators=200,\n",
              "                       random_state=42)"
            ]
          },
          "metadata": {},
          "execution_count": 61
        }
      ],
      "source": [
        "grid_search_RF.best_estimator_\n"
      ]
    },
    {
      "cell_type": "code",
      "execution_count": null,
      "metadata": {
        "id": "oEW8eLP1fvms",
        "outputId": "c3eb898d-279f-473c-9b2d-fad0bc439f3e",
        "colab": {
          "base_uri": "https://localhost:8080/"
        }
      },
      "outputs": [
        {
          "output_type": "execute_result",
          "data": {
            "text/plain": [
              "array([0.08234744, 0.08742089, 0.08634157, 0.07766432, 0.09810454,\n",
              "       0.10423949, 0.08572857, 0.06115691, 0.0808393 , 0.06208235,\n",
              "       0.12040945, 0.00616529, 0.0356719 , 0.01182797])"
            ]
          },
          "metadata": {},
          "execution_count": 62
        }
      ],
      "source": [
        "feature_importances_RF = grid_search_RF.best_estimator_.feature_importances_\n",
        "feature_importances_RF"
      ]
    },
    {
      "cell_type": "code",
      "execution_count": null,
      "metadata": {
        "id": "EBx89WNsfvms"
      },
      "outputs": [],
      "source": [
        "final_model = grid_search_RF.best_estimator_\n",
        "\n",
        "predictions_RF = final_model.predict(X_val)"
      ]
    },
    {
      "cell_type": "code",
      "execution_count": null,
      "metadata": {
        "id": "NMR6Z5-Tfvmt",
        "outputId": "eb404fee-37cf-4efc-9643-9e2c78d6cc0a",
        "colab": {
          "base_uri": "https://localhost:8080/"
        }
      },
      "outputs": [
        {
          "output_type": "stream",
          "name": "stdout",
          "text": [
            "              precision    recall  f1-score   support\n",
            "\n",
            "           0       0.65      0.81      0.72       154\n",
            "           1       0.04      0.02      0.02       324\n",
            "           2       0.56      0.35      0.43       306\n",
            "           3       0.83      0.73      0.78        95\n",
            "           4       0.63      0.59      0.61       100\n",
            "           5       0.67      0.69      0.68       356\n",
            "           6       0.35      0.31      0.32       625\n",
            "           7       0.96      0.95      0.96       146\n",
            "           8       0.59      0.49      0.53       433\n",
            "           9       0.52      0.52      0.52       608\n",
            "          10       0.47      0.63      0.54      1164\n",
            "\n",
            "    accuracy                           0.51      4311\n",
            "   macro avg       0.57      0.55      0.56      4311\n",
            "weighted avg       0.50      0.51      0.50      4311\n",
            "\n"
          ]
        }
      ],
      "source": [
        "from sklearn.metrics import classification_report\n",
        "model_report = classification_report(y_val,predictions_RF)\n",
        "print(model_report)"
      ]
    },
    {
      "cell_type": "code",
      "execution_count": null,
      "metadata": {
        "id": "TLrrKQh_fvmu",
        "outputId": "a530c66d-82c2-434a-feaa-deec859b77f3",
        "colab": {
          "base_uri": "https://localhost:8080/"
        }
      },
      "outputs": [
        {
          "output_type": "stream",
          "name": "stdout",
          "text": [
            "Fitting 5 folds for each of 6 candidates, totalling 30 fits\n",
            "[CV 1/5] END ....n_neighbors=3, weights=uniform;, score=0.301 total time=   0.2s\n",
            "[CV 2/5] END ....n_neighbors=3, weights=uniform;, score=0.324 total time=   0.1s\n",
            "[CV 3/5] END ....n_neighbors=3, weights=uniform;, score=0.300 total time=   0.1s\n",
            "[CV 4/5] END ....n_neighbors=3, weights=uniform;, score=0.307 total time=   0.2s\n",
            "[CV 5/5] END ....n_neighbors=3, weights=uniform;, score=0.294 total time=   0.2s\n",
            "[CV 1/5] END ...n_neighbors=3, weights=distance;, score=0.320 total time=   0.1s\n",
            "[CV 2/5] END ...n_neighbors=3, weights=distance;, score=0.323 total time=   0.1s\n",
            "[CV 3/5] END ...n_neighbors=3, weights=distance;, score=0.325 total time=   0.1s\n",
            "[CV 4/5] END ...n_neighbors=3, weights=distance;, score=0.330 total time=   0.1s\n",
            "[CV 5/5] END ...n_neighbors=3, weights=distance;, score=0.319 total time=   0.1s\n",
            "[CV 1/5] END ....n_neighbors=4, weights=uniform;, score=0.322 total time=   0.2s\n",
            "[CV 2/5] END ....n_neighbors=4, weights=uniform;, score=0.350 total time=   0.2s\n",
            "[CV 3/5] END ....n_neighbors=4, weights=uniform;, score=0.337 total time=   0.2s\n",
            "[CV 4/5] END ....n_neighbors=4, weights=uniform;, score=0.347 total time=   0.2s\n",
            "[CV 5/5] END ....n_neighbors=4, weights=uniform;, score=0.328 total time=   0.1s\n",
            "[CV 1/5] END ...n_neighbors=4, weights=distance;, score=0.331 total time=   0.1s\n",
            "[CV 2/5] END ...n_neighbors=4, weights=distance;, score=0.349 total time=   0.1s\n",
            "[CV 3/5] END ...n_neighbors=4, weights=distance;, score=0.338 total time=   0.1s\n",
            "[CV 4/5] END ...n_neighbors=4, weights=distance;, score=0.342 total time=   0.1s\n",
            "[CV 5/5] END ...n_neighbors=4, weights=distance;, score=0.339 total time=   0.1s\n",
            "[CV 1/5] END ....n_neighbors=5, weights=uniform;, score=0.337 total time=   0.2s\n",
            "[CV 2/5] END ....n_neighbors=5, weights=uniform;, score=0.355 total time=   0.2s\n",
            "[CV 3/5] END ....n_neighbors=5, weights=uniform;, score=0.338 total time=   0.2s\n",
            "[CV 4/5] END ....n_neighbors=5, weights=uniform;, score=0.349 total time=   0.1s\n",
            "[CV 5/5] END ....n_neighbors=5, weights=uniform;, score=0.332 total time=   0.1s\n",
            "[CV 1/5] END ...n_neighbors=5, weights=distance;, score=0.342 total time=   0.1s\n",
            "[CV 2/5] END ...n_neighbors=5, weights=distance;, score=0.356 total time=   0.1s\n",
            "[CV 3/5] END ...n_neighbors=5, weights=distance;, score=0.345 total time=   0.1s\n",
            "[CV 4/5] END ...n_neighbors=5, weights=distance;, score=0.346 total time=   0.1s\n",
            "[CV 5/5] END ...n_neighbors=5, weights=distance;, score=0.337 total time=   0.1s\n"
          ]
        },
        {
          "output_type": "execute_result",
          "data": {
            "text/plain": [
              "GridSearchCV(cv=5, estimator=KNeighborsClassifier(),\n",
              "             param_grid=[{'n_neighbors': [3, 4, 5],\n",
              "                          'weights': ['uniform', 'distance']}],\n",
              "             verbose=3)"
            ]
          },
          "metadata": {},
          "execution_count": 65
        }
      ],
      "source": [
        "from sklearn.neighbors import KNeighborsClassifier\n",
        "\n",
        "param_grid = [{'weights': [\"uniform\", \"distance\"], 'n_neighbors': [3, 4, 5]}]\n",
        "knn_clf = KNeighborsClassifier()\n",
        "grid_search_KNN = GridSearchCV(knn_clf, param_grid, cv=5, verbose=3)\n",
        "grid_search_KNN.fit(X_train, y_train)"
      ]
    },
    {
      "cell_type": "code",
      "execution_count": null,
      "metadata": {
        "id": "t945t7rvfvmv"
      },
      "outputs": [],
      "source": [
        "final_model = grid_search_KNN.best_estimator_\n",
        "\n",
        "predictions_KNN = final_model.predict(X_val)"
      ]
    },
    {
      "cell_type": "code",
      "execution_count": null,
      "metadata": {
        "id": "H8w8Rqtxfvmw",
        "outputId": "b722c1b6-a33b-4757-a057-897c0b27f14d",
        "colab": {
          "base_uri": "https://localhost:8080/"
        }
      },
      "outputs": [
        {
          "output_type": "stream",
          "name": "stdout",
          "text": [
            "              precision    recall  f1-score   support\n",
            "\n",
            "           0       0.33      0.30      0.31       154\n",
            "           1       0.04      0.04      0.04       324\n",
            "           2       0.28      0.22      0.25       306\n",
            "           3       0.54      0.23      0.32        95\n",
            "           4       0.33      0.16      0.22       100\n",
            "           5       0.59      0.46      0.51       356\n",
            "           6       0.16      0.16      0.16       625\n",
            "           7       0.73      0.82      0.77       146\n",
            "           8       0.44      0.41      0.42       433\n",
            "           9       0.34      0.36      0.35       608\n",
            "          10       0.38      0.48      0.42      1164\n",
            "\n",
            "    accuracy                           0.35      4311\n",
            "   macro avg       0.38      0.33      0.34      4311\n",
            "weighted avg       0.35      0.35      0.34      4311\n",
            "\n"
          ]
        }
      ],
      "source": [
        "model_report = classification_report(y_val,predictions_KNN)\n",
        "print(model_report)"
      ]
    },
    {
      "cell_type": "markdown",
      "metadata": {
        "id": "98SAbA8S_1cs"
      },
      "source": [
        "# Test Model"
      ]
    },
    {
      "cell_type": "markdown",
      "metadata": {
        "id": "7dGxKKKI_8ot"
      },
      "source": [
        "**Get the Data**"
      ]
    },
    {
      "cell_type": "code",
      "execution_count": null,
      "metadata": {
        "id": "xGCUkLRn_-2v"
      },
      "outputs": [],
      "source": [
        "test_data= pd.read_csv(\"/content/test.csv\")\n",
        "music_test = test_data.drop(columns = [\"id\",\"Track Name\",\"Artist Name\"],axis =1 )"
      ]
    },
    {
      "cell_type": "code",
      "execution_count": null,
      "metadata": {
        "scrolled": true,
        "id": "UpmUfdhsfvm6",
        "outputId": "1dab9b6b-85ed-4b22-8316-a8614c91d770",
        "colab": {
          "base_uri": "https://localhost:8080/",
          "height": 287
        }
      },
      "outputs": [
        {
          "output_type": "execute_result",
          "data": {
            "text/plain": [
              "   Popularity  danceability  energy   key  loudness  mode  speechiness  \\\n",
              "0        52.0         0.522   0.726   4.0    -4.115     1       0.0383   \n",
              "1        69.0         0.754   0.449   4.0   -14.013     1       0.0615   \n",
              "2        50.0         0.607   0.477   9.0   -12.904     1       0.0333   \n",
              "3        40.0         0.484   0.872   1.0    -5.586     1       0.0559   \n",
              "4        64.0         0.639   0.843  11.0    -4.975     1       0.0362   \n",
              "\n",
              "   acousticness  instrumentalness  liveness  valence    tempo  \\\n",
              "0      0.348000          0.000005    0.1480    0.331  161.867   \n",
              "1      0.724000               NaN    0.1620    0.973   82.751   \n",
              "2      0.708000               NaN    0.2530    0.887  136.614   \n",
              "3      0.000384          0.000672    0.1480    0.347  150.027   \n",
              "4      0.052500               NaN    0.0854    0.528  126.047   \n",
              "\n",
              "   duration_in min/ms  time_signature  \n",
              "0            189587.0               4  \n",
              "1            211880.0               4  \n",
              "2            122600.0               4  \n",
              "3            222208.0               4  \n",
              "4            217802.0               4  "
            ],
            "text/html": [
              "\n",
              "  <div id=\"df-fbaa2a70-7b51-41ef-96ca-17627ee5c5c2\">\n",
              "    <div class=\"colab-df-container\">\n",
              "      <div>\n",
              "<style scoped>\n",
              "    .dataframe tbody tr th:only-of-type {\n",
              "        vertical-align: middle;\n",
              "    }\n",
              "\n",
              "    .dataframe tbody tr th {\n",
              "        vertical-align: top;\n",
              "    }\n",
              "\n",
              "    .dataframe thead th {\n",
              "        text-align: right;\n",
              "    }\n",
              "</style>\n",
              "<table border=\"1\" class=\"dataframe\">\n",
              "  <thead>\n",
              "    <tr style=\"text-align: right;\">\n",
              "      <th></th>\n",
              "      <th>Popularity</th>\n",
              "      <th>danceability</th>\n",
              "      <th>energy</th>\n",
              "      <th>key</th>\n",
              "      <th>loudness</th>\n",
              "      <th>mode</th>\n",
              "      <th>speechiness</th>\n",
              "      <th>acousticness</th>\n",
              "      <th>instrumentalness</th>\n",
              "      <th>liveness</th>\n",
              "      <th>valence</th>\n",
              "      <th>tempo</th>\n",
              "      <th>duration_in min/ms</th>\n",
              "      <th>time_signature</th>\n",
              "    </tr>\n",
              "  </thead>\n",
              "  <tbody>\n",
              "    <tr>\n",
              "      <th>0</th>\n",
              "      <td>52.0</td>\n",
              "      <td>0.522</td>\n",
              "      <td>0.726</td>\n",
              "      <td>4.0</td>\n",
              "      <td>-4.115</td>\n",
              "      <td>1</td>\n",
              "      <td>0.0383</td>\n",
              "      <td>0.348000</td>\n",
              "      <td>0.000005</td>\n",
              "      <td>0.1480</td>\n",
              "      <td>0.331</td>\n",
              "      <td>161.867</td>\n",
              "      <td>189587.0</td>\n",
              "      <td>4</td>\n",
              "    </tr>\n",
              "    <tr>\n",
              "      <th>1</th>\n",
              "      <td>69.0</td>\n",
              "      <td>0.754</td>\n",
              "      <td>0.449</td>\n",
              "      <td>4.0</td>\n",
              "      <td>-14.013</td>\n",
              "      <td>1</td>\n",
              "      <td>0.0615</td>\n",
              "      <td>0.724000</td>\n",
              "      <td>NaN</td>\n",
              "      <td>0.1620</td>\n",
              "      <td>0.973</td>\n",
              "      <td>82.751</td>\n",
              "      <td>211880.0</td>\n",
              "      <td>4</td>\n",
              "    </tr>\n",
              "    <tr>\n",
              "      <th>2</th>\n",
              "      <td>50.0</td>\n",
              "      <td>0.607</td>\n",
              "      <td>0.477</td>\n",
              "      <td>9.0</td>\n",
              "      <td>-12.904</td>\n",
              "      <td>1</td>\n",
              "      <td>0.0333</td>\n",
              "      <td>0.708000</td>\n",
              "      <td>NaN</td>\n",
              "      <td>0.2530</td>\n",
              "      <td>0.887</td>\n",
              "      <td>136.614</td>\n",
              "      <td>122600.0</td>\n",
              "      <td>4</td>\n",
              "    </tr>\n",
              "    <tr>\n",
              "      <th>3</th>\n",
              "      <td>40.0</td>\n",
              "      <td>0.484</td>\n",
              "      <td>0.872</td>\n",
              "      <td>1.0</td>\n",
              "      <td>-5.586</td>\n",
              "      <td>1</td>\n",
              "      <td>0.0559</td>\n",
              "      <td>0.000384</td>\n",
              "      <td>0.000672</td>\n",
              "      <td>0.1480</td>\n",
              "      <td>0.347</td>\n",
              "      <td>150.027</td>\n",
              "      <td>222208.0</td>\n",
              "      <td>4</td>\n",
              "    </tr>\n",
              "    <tr>\n",
              "      <th>4</th>\n",
              "      <td>64.0</td>\n",
              "      <td>0.639</td>\n",
              "      <td>0.843</td>\n",
              "      <td>11.0</td>\n",
              "      <td>-4.975</td>\n",
              "      <td>1</td>\n",
              "      <td>0.0362</td>\n",
              "      <td>0.052500</td>\n",
              "      <td>NaN</td>\n",
              "      <td>0.0854</td>\n",
              "      <td>0.528</td>\n",
              "      <td>126.047</td>\n",
              "      <td>217802.0</td>\n",
              "      <td>4</td>\n",
              "    </tr>\n",
              "  </tbody>\n",
              "</table>\n",
              "</div>\n",
              "      <button class=\"colab-df-convert\" onclick=\"convertToInteractive('df-fbaa2a70-7b51-41ef-96ca-17627ee5c5c2')\"\n",
              "              title=\"Convert this dataframe to an interactive table.\"\n",
              "              style=\"display:none;\">\n",
              "        \n",
              "  <svg xmlns=\"http://www.w3.org/2000/svg\" height=\"24px\"viewBox=\"0 0 24 24\"\n",
              "       width=\"24px\">\n",
              "    <path d=\"M0 0h24v24H0V0z\" fill=\"none\"/>\n",
              "    <path d=\"M18.56 5.44l.94 2.06.94-2.06 2.06-.94-2.06-.94-.94-2.06-.94 2.06-2.06.94zm-11 1L8.5 8.5l.94-2.06 2.06-.94-2.06-.94L8.5 2.5l-.94 2.06-2.06.94zm10 10l.94 2.06.94-2.06 2.06-.94-2.06-.94-.94-2.06-.94 2.06-2.06.94z\"/><path d=\"M17.41 7.96l-1.37-1.37c-.4-.4-.92-.59-1.43-.59-.52 0-1.04.2-1.43.59L10.3 9.45l-7.72 7.72c-.78.78-.78 2.05 0 2.83L4 21.41c.39.39.9.59 1.41.59.51 0 1.02-.2 1.41-.59l7.78-7.78 2.81-2.81c.8-.78.8-2.07 0-2.86zM5.41 20L4 18.59l7.72-7.72 1.47 1.35L5.41 20z\"/>\n",
              "  </svg>\n",
              "      </button>\n",
              "      \n",
              "  <style>\n",
              "    .colab-df-container {\n",
              "      display:flex;\n",
              "      flex-wrap:wrap;\n",
              "      gap: 12px;\n",
              "    }\n",
              "\n",
              "    .colab-df-convert {\n",
              "      background-color: #E8F0FE;\n",
              "      border: none;\n",
              "      border-radius: 50%;\n",
              "      cursor: pointer;\n",
              "      display: none;\n",
              "      fill: #1967D2;\n",
              "      height: 32px;\n",
              "      padding: 0 0 0 0;\n",
              "      width: 32px;\n",
              "    }\n",
              "\n",
              "    .colab-df-convert:hover {\n",
              "      background-color: #E2EBFA;\n",
              "      box-shadow: 0px 1px 2px rgba(60, 64, 67, 0.3), 0px 1px 3px 1px rgba(60, 64, 67, 0.15);\n",
              "      fill: #174EA6;\n",
              "    }\n",
              "\n",
              "    [theme=dark] .colab-df-convert {\n",
              "      background-color: #3B4455;\n",
              "      fill: #D2E3FC;\n",
              "    }\n",
              "\n",
              "    [theme=dark] .colab-df-convert:hover {\n",
              "      background-color: #434B5C;\n",
              "      box-shadow: 0px 1px 3px 1px rgba(0, 0, 0, 0.15);\n",
              "      filter: drop-shadow(0px 1px 2px rgba(0, 0, 0, 0.3));\n",
              "      fill: #FFFFFF;\n",
              "    }\n",
              "  </style>\n",
              "\n",
              "      <script>\n",
              "        const buttonEl =\n",
              "          document.querySelector('#df-fbaa2a70-7b51-41ef-96ca-17627ee5c5c2 button.colab-df-convert');\n",
              "        buttonEl.style.display =\n",
              "          google.colab.kernel.accessAllowed ? 'block' : 'none';\n",
              "\n",
              "        async function convertToInteractive(key) {\n",
              "          const element = document.querySelector('#df-fbaa2a70-7b51-41ef-96ca-17627ee5c5c2');\n",
              "          const dataTable =\n",
              "            await google.colab.kernel.invokeFunction('convertToInteractive',\n",
              "                                                     [key], {});\n",
              "          if (!dataTable) return;\n",
              "\n",
              "          const docLinkHtml = 'Like what you see? Visit the ' +\n",
              "            '<a target=\"_blank\" href=https://colab.research.google.com/notebooks/data_table.ipynb>data table notebook</a>'\n",
              "            + ' to learn more about interactive tables.';\n",
              "          element.innerHTML = '';\n",
              "          dataTable['output_type'] = 'display_data';\n",
              "          await google.colab.output.renderOutput(dataTable, element);\n",
              "          const docLink = document.createElement('div');\n",
              "          docLink.innerHTML = docLinkHtml;\n",
              "          element.appendChild(docLink);\n",
              "        }\n",
              "      </script>\n",
              "    </div>\n",
              "  </div>\n",
              "  "
            ]
          },
          "metadata": {},
          "execution_count": 69
        }
      ],
      "source": [
        "music_test.head()"
      ]
    },
    {
      "cell_type": "code",
      "execution_count": null,
      "metadata": {
        "scrolled": true,
        "id": "3iu896khfvm6",
        "outputId": "231409f0-3705-422a-a15a-9b1862dda230",
        "colab": {
          "base_uri": "https://localhost:8080/"
        }
      },
      "outputs": [
        {
          "output_type": "execute_result",
          "data": {
            "text/plain": [
              "instrumentalness      818\n",
              "key                   402\n",
              "Popularity             77\n",
              "danceability            0\n",
              "energy                  0\n",
              "loudness                0\n",
              "mode                    0\n",
              "speechiness             0\n",
              "acousticness            0\n",
              "liveness                0\n",
              "valence                 0\n",
              "tempo                   0\n",
              "duration_in min/ms      0\n",
              "time_signature          0\n",
              "dtype: int64"
            ]
          },
          "metadata": {},
          "execution_count": 70
        }
      ],
      "source": [
        "music_test.isna().sum().sort_values(ascending = False)"
      ]
    },
    {
      "cell_type": "code",
      "execution_count": null,
      "metadata": {
        "id": "Eq99JjBffvm7"
      },
      "outputs": [],
      "source": [
        "prepared_Test_Data = full_transform.transform(music_test)\n",
        "prepared_Test_Data = pd.DataFrame(prepared_Test_Data , columns = music_test.columns)"
      ]
    },
    {
      "cell_type": "code",
      "execution_count": null,
      "metadata": {
        "id": "RYD-6_DBfvm8",
        "colab": {
          "base_uri": "https://localhost:8080/"
        },
        "outputId": "734fcd88-ddc9-4256-a1c7-2ede2cfea84d"
      },
      "outputs": [
        {
          "output_type": "execute_result",
          "data": {
            "text/plain": [
              "Popularity            0\n",
              "danceability          0\n",
              "energy                0\n",
              "key                   0\n",
              "loudness              0\n",
              "mode                  0\n",
              "speechiness           0\n",
              "acousticness          0\n",
              "instrumentalness      0\n",
              "liveness              0\n",
              "valence               0\n",
              "tempo                 0\n",
              "duration_in min/ms    0\n",
              "time_signature        0\n",
              "dtype: int64"
            ]
          },
          "metadata": {},
          "execution_count": 72
        }
      ],
      "source": [
        "prepared_Test_Data.isna().sum().sort_values(ascending = False)"
      ]
    },
    {
      "cell_type": "markdown",
      "metadata": {
        "id": "BNd1dPa0__Wd"
      },
      "source": [
        "**Setup test predictions**"
      ]
    },
    {
      "cell_type": "code",
      "execution_count": null,
      "metadata": {
        "id": "WOSsYROqByT-",
        "colab": {
          "base_uri": "https://localhost:8080/"
        },
        "outputId": "b73f1d47-5e65-45fe-e387-02067229ff44"
      },
      "outputs": [
        {
          "output_type": "execute_result",
          "data": {
            "text/plain": [
              "array([10, 10, 10, ..., 10,  7, 10])"
            ]
          },
          "metadata": {},
          "execution_count": 73
        }
      ],
      "source": [
        "y_pred = RF_Cls.predict(prepared_Test_Data)\n",
        "y_pred"
      ]
    },
    {
      "cell_type": "code",
      "execution_count": null,
      "metadata": {
        "id": "xbT-LBVXCYZh"
      },
      "outputs": [],
      "source": [
        "submission = test_data[[\"id\"]]"
      ]
    },
    {
      "cell_type": "code",
      "execution_count": null,
      "metadata": {
        "id": "hHUlFXbhCa5u",
        "colab": {
          "base_uri": "https://localhost:8080/"
        },
        "outputId": "91eb2b47-a36d-4c33-c53b-4d316c06760b"
      },
      "outputs": [
        {
          "output_type": "stream",
          "name": "stderr",
          "text": [
            "<ipython-input-75-1bc1919a17ea>:1: SettingWithCopyWarning: \n",
            "A value is trying to be set on a copy of a slice from a DataFrame.\n",
            "Try using .loc[row_indexer,col_indexer] = value instead\n",
            "\n",
            "See the caveats in the documentation: https://pandas.pydata.org/pandas-docs/stable/user_guide/indexing.html#returning-a-view-versus-a-copy\n",
            "  submission[\"Class\"] = y_pred\n"
          ]
        }
      ],
      "source": [
        "submission[\"Class\"] = y_pred"
      ]
    },
    {
      "cell_type": "code",
      "execution_count": null,
      "metadata": {
        "id": "WrAS1hObCbj7",
        "scrolled": true,
        "colab": {
          "base_uri": "https://localhost:8080/",
          "height": 423
        },
        "outputId": "1e87edd5-a9df-4ca1-a892-ac54c3a67f88"
      },
      "outputs": [
        {
          "output_type": "execute_result",
          "data": {
            "text/plain": [
              "        id  Class\n",
              "0        0     10\n",
              "1        1     10\n",
              "2        2     10\n",
              "3        3     10\n",
              "4        4     10\n",
              "...    ...    ...\n",
              "3595  3595      5\n",
              "3596  3596     10\n",
              "3597  3597     10\n",
              "3598  3598      7\n",
              "3599  3599     10\n",
              "\n",
              "[3600 rows x 2 columns]"
            ],
            "text/html": [
              "\n",
              "  <div id=\"df-50c03a35-574b-4771-b901-dde685d5dfe5\">\n",
              "    <div class=\"colab-df-container\">\n",
              "      <div>\n",
              "<style scoped>\n",
              "    .dataframe tbody tr th:only-of-type {\n",
              "        vertical-align: middle;\n",
              "    }\n",
              "\n",
              "    .dataframe tbody tr th {\n",
              "        vertical-align: top;\n",
              "    }\n",
              "\n",
              "    .dataframe thead th {\n",
              "        text-align: right;\n",
              "    }\n",
              "</style>\n",
              "<table border=\"1\" class=\"dataframe\">\n",
              "  <thead>\n",
              "    <tr style=\"text-align: right;\">\n",
              "      <th></th>\n",
              "      <th>id</th>\n",
              "      <th>Class</th>\n",
              "    </tr>\n",
              "  </thead>\n",
              "  <tbody>\n",
              "    <tr>\n",
              "      <th>0</th>\n",
              "      <td>0</td>\n",
              "      <td>10</td>\n",
              "    </tr>\n",
              "    <tr>\n",
              "      <th>1</th>\n",
              "      <td>1</td>\n",
              "      <td>10</td>\n",
              "    </tr>\n",
              "    <tr>\n",
              "      <th>2</th>\n",
              "      <td>2</td>\n",
              "      <td>10</td>\n",
              "    </tr>\n",
              "    <tr>\n",
              "      <th>3</th>\n",
              "      <td>3</td>\n",
              "      <td>10</td>\n",
              "    </tr>\n",
              "    <tr>\n",
              "      <th>4</th>\n",
              "      <td>4</td>\n",
              "      <td>10</td>\n",
              "    </tr>\n",
              "    <tr>\n",
              "      <th>...</th>\n",
              "      <td>...</td>\n",
              "      <td>...</td>\n",
              "    </tr>\n",
              "    <tr>\n",
              "      <th>3595</th>\n",
              "      <td>3595</td>\n",
              "      <td>5</td>\n",
              "    </tr>\n",
              "    <tr>\n",
              "      <th>3596</th>\n",
              "      <td>3596</td>\n",
              "      <td>10</td>\n",
              "    </tr>\n",
              "    <tr>\n",
              "      <th>3597</th>\n",
              "      <td>3597</td>\n",
              "      <td>10</td>\n",
              "    </tr>\n",
              "    <tr>\n",
              "      <th>3598</th>\n",
              "      <td>3598</td>\n",
              "      <td>7</td>\n",
              "    </tr>\n",
              "    <tr>\n",
              "      <th>3599</th>\n",
              "      <td>3599</td>\n",
              "      <td>10</td>\n",
              "    </tr>\n",
              "  </tbody>\n",
              "</table>\n",
              "<p>3600 rows × 2 columns</p>\n",
              "</div>\n",
              "      <button class=\"colab-df-convert\" onclick=\"convertToInteractive('df-50c03a35-574b-4771-b901-dde685d5dfe5')\"\n",
              "              title=\"Convert this dataframe to an interactive table.\"\n",
              "              style=\"display:none;\">\n",
              "        \n",
              "  <svg xmlns=\"http://www.w3.org/2000/svg\" height=\"24px\"viewBox=\"0 0 24 24\"\n",
              "       width=\"24px\">\n",
              "    <path d=\"M0 0h24v24H0V0z\" fill=\"none\"/>\n",
              "    <path d=\"M18.56 5.44l.94 2.06.94-2.06 2.06-.94-2.06-.94-.94-2.06-.94 2.06-2.06.94zm-11 1L8.5 8.5l.94-2.06 2.06-.94-2.06-.94L8.5 2.5l-.94 2.06-2.06.94zm10 10l.94 2.06.94-2.06 2.06-.94-2.06-.94-.94-2.06-.94 2.06-2.06.94z\"/><path d=\"M17.41 7.96l-1.37-1.37c-.4-.4-.92-.59-1.43-.59-.52 0-1.04.2-1.43.59L10.3 9.45l-7.72 7.72c-.78.78-.78 2.05 0 2.83L4 21.41c.39.39.9.59 1.41.59.51 0 1.02-.2 1.41-.59l7.78-7.78 2.81-2.81c.8-.78.8-2.07 0-2.86zM5.41 20L4 18.59l7.72-7.72 1.47 1.35L5.41 20z\"/>\n",
              "  </svg>\n",
              "      </button>\n",
              "      \n",
              "  <style>\n",
              "    .colab-df-container {\n",
              "      display:flex;\n",
              "      flex-wrap:wrap;\n",
              "      gap: 12px;\n",
              "    }\n",
              "\n",
              "    .colab-df-convert {\n",
              "      background-color: #E8F0FE;\n",
              "      border: none;\n",
              "      border-radius: 50%;\n",
              "      cursor: pointer;\n",
              "      display: none;\n",
              "      fill: #1967D2;\n",
              "      height: 32px;\n",
              "      padding: 0 0 0 0;\n",
              "      width: 32px;\n",
              "    }\n",
              "\n",
              "    .colab-df-convert:hover {\n",
              "      background-color: #E2EBFA;\n",
              "      box-shadow: 0px 1px 2px rgba(60, 64, 67, 0.3), 0px 1px 3px 1px rgba(60, 64, 67, 0.15);\n",
              "      fill: #174EA6;\n",
              "    }\n",
              "\n",
              "    [theme=dark] .colab-df-convert {\n",
              "      background-color: #3B4455;\n",
              "      fill: #D2E3FC;\n",
              "    }\n",
              "\n",
              "    [theme=dark] .colab-df-convert:hover {\n",
              "      background-color: #434B5C;\n",
              "      box-shadow: 0px 1px 3px 1px rgba(0, 0, 0, 0.15);\n",
              "      filter: drop-shadow(0px 1px 2px rgba(0, 0, 0, 0.3));\n",
              "      fill: #FFFFFF;\n",
              "    }\n",
              "  </style>\n",
              "\n",
              "      <script>\n",
              "        const buttonEl =\n",
              "          document.querySelector('#df-50c03a35-574b-4771-b901-dde685d5dfe5 button.colab-df-convert');\n",
              "        buttonEl.style.display =\n",
              "          google.colab.kernel.accessAllowed ? 'block' : 'none';\n",
              "\n",
              "        async function convertToInteractive(key) {\n",
              "          const element = document.querySelector('#df-50c03a35-574b-4771-b901-dde685d5dfe5');\n",
              "          const dataTable =\n",
              "            await google.colab.kernel.invokeFunction('convertToInteractive',\n",
              "                                                     [key], {});\n",
              "          if (!dataTable) return;\n",
              "\n",
              "          const docLinkHtml = 'Like what you see? Visit the ' +\n",
              "            '<a target=\"_blank\" href=https://colab.research.google.com/notebooks/data_table.ipynb>data table notebook</a>'\n",
              "            + ' to learn more about interactive tables.';\n",
              "          element.innerHTML = '';\n",
              "          dataTable['output_type'] = 'display_data';\n",
              "          await google.colab.output.renderOutput(dataTable, element);\n",
              "          const docLink = document.createElement('div');\n",
              "          docLink.innerHTML = docLinkHtml;\n",
              "          element.appendChild(docLink);\n",
              "        }\n",
              "      </script>\n",
              "    </div>\n",
              "  </div>\n",
              "  "
            ]
          },
          "metadata": {},
          "execution_count": 76
        }
      ],
      "source": [
        "submission"
      ]
    },
    {
      "cell_type": "code",
      "execution_count": null,
      "metadata": {
        "id": "XQDmaGdifvnC"
      },
      "outputs": [],
      "source": [
        "submission.to_csv(\"submission.csv\",index = None)"
      ]
    }
  ],
  "metadata": {
    "colab": {
      "collapsed_sections": [
        "vB13w7It9nuQ",
        "MfZ69DseXuNX"
      ],
      "provenance": [],
      "include_colab_link": true
    },
    "kernelspec": {
      "display_name": "Python 3 (ipykernel)",
      "language": "python",
      "name": "python3"
    },
    "language_info": {
      "codemirror_mode": {
        "name": "ipython",
        "version": 3
      },
      "file_extension": ".py",
      "mimetype": "text/x-python",
      "name": "python",
      "nbconvert_exporter": "python",
      "pygments_lexer": "ipython3",
      "version": "3.9.12"
    }
  },
  "nbformat": 4,
  "nbformat_minor": 0
}